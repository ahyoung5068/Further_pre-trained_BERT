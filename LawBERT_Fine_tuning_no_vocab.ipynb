{
 "cells": [
  {
   "cell_type": "markdown",
   "id": "6210aacb",
   "metadata": {},
   "source": [
    "## 1. Library Import"
   ]
  },
  {
   "cell_type": "code",
   "execution_count": 1,
   "id": "7a761df7",
   "metadata": {},
   "outputs": [
    {
     "name": "stdout",
     "output_type": "stream",
     "text": [
      "Device: cuda\n",
      "Count of using GPUs: 1\n",
      "Current cuda device: 0\n"
     ]
    }
   ],
   "source": [
    "import os\n",
    "import torch\n",
    "\n",
    "os.environ['CUDA_DEVICE_ORDER'] = 'PCI_BUS_ID'\n",
    "os.environ['CUDA_VISIBLE_DEVICES']= '0'\n",
    "\n",
    "device = torch.device('cuda' if torch.cuda.is_available() else 'cpu')\n",
    "\n",
    "print('Device:', device)  # 출력결과: cuda \n",
    "print('Count of using GPUs:', torch.cuda.device_count()) \n",
    "print('Current cuda device:', torch.cuda.current_device()) "
   ]
  },
  {
   "cell_type": "code",
   "execution_count": 2,
   "id": "f4e05d0a",
   "metadata": {},
   "outputs": [],
   "source": [
    "import pandas as pd\n",
    "import numpy as np\n",
    "import random\n",
    "import pickle\n",
    "from tqdm.notebook import tqdm\n",
    "tqdm.pandas()\n",
    "\n",
    "from transformers import BertConfig, BertForSequenceClassification, BertTokenizer\n",
    "from transformers import Trainer, TrainingArguments\n",
    "from transformers import EvalPrediction\n",
    "\n",
    "from torch.utils.data.dataset import Dataset\n",
    "from torch.utils.data import DataLoader\n",
    "from torch.utils.data.sampler import *\n",
    "\n",
    "from sklearn.metrics import f1_score, roc_auc_score, accuracy_score, precision_score, recall_score\n",
    "from sklearn.model_selection import train_test_split\n",
    "\n",
    "# import torch\n",
    "# torch.cuda.is_available()"
   ]
  },
  {
   "cell_type": "code",
   "execution_count": null,
   "id": "da5913bb",
   "metadata": {},
   "outputs": [],
   "source": []
  },
  {
   "cell_type": "markdown",
   "id": "9edcaad1",
   "metadata": {},
   "source": [
    "## 2. Hyper-Parameter"
   ]
  },
  {
   "cell_type": "code",
   "execution_count": 3,
   "id": "cabdc7a5",
   "metadata": {},
   "outputs": [],
   "source": [
    "tokenizer_path = 'beomi/kcbert-base'\n",
    "weight_path = './fp_result/law_further_pretrained/checkpoint-50000'\n",
    "\n",
    "class_n = 5\n",
    "max_len = 300\n",
    "epochs = 10\n",
    "batch_size = 32"
   ]
  },
  {
   "cell_type": "code",
   "execution_count": 4,
   "id": "428dddeb",
   "metadata": {},
   "outputs": [],
   "source": [
    "seed = 42\n",
    "\n",
    "def set_seeds(seed):\n",
    "    random.seed(seed)\n",
    "    os.environ['PYTHONHASHSEED'] = str(seed)\n",
    "    np.random.seed(seed)\n",
    "    torch.manual_seed(seed)\n",
    "    torch.cuda.manual_seed(seed)\n",
    "    torch.cuda.manual_seed_all(seed)\n",
    "    torch.backends.cudnn.deterministic = True\n",
    "    torch.backends.cudnn.benchmark = False \n",
    "\n",
    "set_seeds(seed)"
   ]
  },
  {
   "cell_type": "code",
   "execution_count": null,
   "id": "00460c89",
   "metadata": {},
   "outputs": [],
   "source": []
  },
  {
   "cell_type": "markdown",
   "id": "4e995967",
   "metadata": {},
   "source": [
    "## 3. Data Load"
   ]
  },
  {
   "cell_type": "code",
   "execution_count": null,
   "id": "24e862ca",
   "metadata": {},
   "outputs": [],
   "source": [
    "# law_data = pd.read_csv('./data/law_ft.csv')\n",
    "# del law_data['Unnamed: 0']\n",
    "\n",
    "# law_data"
   ]
  },
  {
   "cell_type": "code",
   "execution_count": null,
   "id": "552a9c16",
   "metadata": {},
   "outputs": [],
   "source": [
    "# law_data = law_data.sample(frac=1, random_state=42).reset_index(drop=True)\n",
    "\n",
    "# law_data"
   ]
  },
  {
   "cell_type": "code",
   "execution_count": null,
   "id": "3e17d877",
   "metadata": {},
   "outputs": [],
   "source": []
  },
  {
   "cell_type": "markdown",
   "id": "89a9052c",
   "metadata": {},
   "source": [
    "## 4. Data Split"
   ]
  },
  {
   "cell_type": "code",
   "execution_count": null,
   "id": "9311d11a",
   "metadata": {},
   "outputs": [],
   "source": [
    "# law_data['label'].value_counts()"
   ]
  },
  {
   "cell_type": "code",
   "execution_count": null,
   "id": "349673f4",
   "metadata": {},
   "outputs": [],
   "source": [
    "# law_ft_train = pd.DataFrame(columns = law_data.columns)\n",
    "# law_ft_val = pd.DataFrame(columns = law_data.columns)\n",
    "# law_ft_test = pd.DataFrame(columns = law_data.columns)\n",
    "\n",
    "# for i in range(5):\n",
    "#     temp = law_data[law_data['label']==i]\n",
    "    \n",
    "#     law_ft_train = pd.concat([law_ft_train, temp[:4800]])\n",
    "#     law_ft_val = pd.concat([law_ft_val, temp[4800:-1600]])\n",
    "#     law_ft_test = pd.concat([law_ft_test, temp[-1600:]])"
   ]
  },
  {
   "cell_type": "code",
   "execution_count": null,
   "id": "3fd2672e",
   "metadata": {},
   "outputs": [],
   "source": [
    "# print(len(law_ft_train), len(law_ft_val), len(law_ft_test))"
   ]
  },
  {
   "cell_type": "code",
   "execution_count": null,
   "id": "c26452be",
   "metadata": {},
   "outputs": [],
   "source": [
    "# law_ft_train.to_csv('./data/law_ft_train.csv')\n",
    "# law_ft_val.to_csv('./data/law_ft_val.csv')\n",
    "# law_ft_test.to_csv('./data/law_ft_test.csv')"
   ]
  },
  {
   "cell_type": "code",
   "execution_count": null,
   "id": "9e986039",
   "metadata": {},
   "outputs": [],
   "source": []
  },
  {
   "cell_type": "code",
   "execution_count": 5,
   "id": "e7562677",
   "metadata": {},
   "outputs": [],
   "source": [
    "law_ft_train = pd.read_csv('./data/law_ft_train.csv')\n",
    "law_ft_val = pd.read_csv('./data/law_ft_val.csv')\n",
    "law_ft_test = pd.read_csv('./data/law_ft_test.csv')"
   ]
  },
  {
   "cell_type": "code",
   "execution_count": 6,
   "id": "85c0e560",
   "metadata": {},
   "outputs": [],
   "source": [
    "train_text = law_ft_train['pre_content']\n",
    "train_label = law_ft_train['label']\n",
    "\n",
    "val_text = law_ft_val['pre_content']\n",
    "val_label = law_ft_val['label']\n",
    "\n",
    "test_text = law_ft_test['pre_content']\n",
    "test_label = law_ft_test['label']"
   ]
  },
  {
   "cell_type": "code",
   "execution_count": null,
   "id": "7ed39468",
   "metadata": {},
   "outputs": [],
   "source": []
  },
  {
   "cell_type": "markdown",
   "id": "7a94035a",
   "metadata": {},
   "source": [
    "## 5. Pre-processing"
   ]
  },
  {
   "cell_type": "code",
   "execution_count": 7,
   "id": "41fe75da",
   "metadata": {},
   "outputs": [],
   "source": [
    "def tokenizer_(text, max_len, tokenizer):\n",
    "    encoded_dict = tokenizer.encode_plus(text = text,\n",
    "                                         add_special_tokens = True,\n",
    "                                         max_length = max_len,\n",
    "                                         padding = 'max_length',\n",
    "                                         return_attention_mask = True,\n",
    "                                         truncation = True)\n",
    "    \n",
    "    input_id = encoded_dict['input_ids']\n",
    "    token_type_id = encoded_dict['token_type_ids']\n",
    "    attention_mask = encoded_dict['attention_mask']\n",
    "    \n",
    "    return input_id, token_type_id, attention_mask"
   ]
  },
  {
   "cell_type": "code",
   "execution_count": 8,
   "id": "7d9213e5",
   "metadata": {},
   "outputs": [],
   "source": [
    "def preprocessing_train():\n",
    "    tokenizer = BertTokenizer.from_pretrained(tokenizer_path)\n",
    "\n",
    "    input_ids = []\n",
    "    token_type_ids = []\n",
    "    attention_masks = []\n",
    "    labels = []\n",
    "    \n",
    "    \n",
    "    for text, label in tqdm(zip(train_text, train_label)):\n",
    "        try:\n",
    "            input_id, token_type_id, attention_mask = tokenizer_(text, max_len, tokenizer)\n",
    "            input_ids.append(input_id)\n",
    "            token_type_ids.append(token_type_id)\n",
    "            attention_masks.append(attention_mask)\n",
    "            labels.append(label)\n",
    "        except Exception as e:\n",
    "            print(e)\n",
    "            pass\n",
    "        \n",
    "    train_input_ids = np.array(input_ids, dtype=int)\n",
    "    train_attention_masks = np.array(attention_masks, dtype=int)\n",
    "    train_token_type_ids = np.array(token_type_ids, dtype=int)\n",
    "    train_labels = np.array(labels, dtype=int)\n",
    "    \n",
    "    # save\n",
    "    train_data = {}\n",
    "\n",
    "    train_data['input_ids'] = train_input_ids\n",
    "    train_data['token_type_ids'] = train_token_type_ids\n",
    "    train_data['attention_mask'] = train_attention_masks\n",
    "    train_data['targets'] = train_labels\n",
    "    \n",
    "    os.makedirs('./ft_data/', exist_ok=True)\n",
    "    \n",
    "    with open('./ft_data/law_train_data_preprocessing.pickle', 'wb') as f:\n",
    "        pickle.dump(train_data, f, pickle.HIGHEST_PROTOCOL)"
   ]
  },
  {
   "cell_type": "code",
   "execution_count": 9,
   "id": "c2a02e28",
   "metadata": {},
   "outputs": [],
   "source": [
    "def preprocessing_val():\n",
    "    tokenizer = BertTokenizer.from_pretrained(tokenizer_path)\n",
    "\n",
    "    input_ids = []\n",
    "    token_type_ids = []\n",
    "    attention_masks = []\n",
    "    labels = []\n",
    "    \n",
    "    \n",
    "    for text, label in tqdm(zip(val_text, val_label)):\n",
    "        try:\n",
    "            input_id, token_type_id, attention_mask = tokenizer_(text, max_len, tokenizer)\n",
    "            input_ids.append(input_id)\n",
    "            token_type_ids.append(token_type_id)\n",
    "            attention_masks.append(attention_mask)\n",
    "            labels.append(label)\n",
    "        except Exception as e:\n",
    "            print(e)\n",
    "            pass\n",
    "        \n",
    "    val_input_ids = np.array(input_ids, dtype=int)\n",
    "    val_attention_masks = np.array(attention_masks, dtype=int)\n",
    "    val_token_type_ids = np.array(token_type_ids, dtype=int)\n",
    "    val_labels = np.array(labels, dtype=int)\n",
    "    \n",
    "    # save\n",
    "    val_data = {}\n",
    "\n",
    "    val_data['input_ids'] = val_input_ids\n",
    "    val_data['token_type_ids'] = val_token_type_ids\n",
    "    val_data['attention_mask'] = val_attention_masks\n",
    "    val_data['targets'] = val_labels\n",
    "    \n",
    "    os.makedirs('./ft_data/', exist_ok=True)\n",
    "    \n",
    "    with open('./ft_data/law_val_data_preprocessing.pickle', 'wb') as f:\n",
    "        pickle.dump(val_data, f, pickle.HIGHEST_PROTOCOL)"
   ]
  },
  {
   "cell_type": "code",
   "execution_count": 10,
   "id": "8f5f12de",
   "metadata": {},
   "outputs": [],
   "source": [
    "def preprocessing_test():\n",
    "    tokenizer = BertTokenizer.from_pretrained(tokenizer_path)\n",
    "\n",
    "    input_ids = []\n",
    "    token_type_ids = []\n",
    "    attention_masks = []\n",
    "    labels = []\n",
    "    \n",
    "    \n",
    "    for text, label in tqdm(zip(test_text, test_label)):\n",
    "        try:\n",
    "            input_id, token_type_id, attention_mask = tokenizer_(text, max_len, tokenizer)\n",
    "            input_ids.append(input_id)\n",
    "            token_type_ids.append(token_type_id)\n",
    "            attention_masks.append(attention_mask)\n",
    "            labels.append(label)\n",
    "        except Exception as e:\n",
    "            print(e)\n",
    "            pass\n",
    "        \n",
    "    test_input_ids = np.array(input_ids, dtype=int)\n",
    "    test_attention_masks = np.array(attention_masks, dtype=int)\n",
    "    test_token_type_ids = np.array(token_type_ids, dtype=int)\n",
    "    test_labels = np.array(labels, dtype=int)\n",
    "    \n",
    "    # save\n",
    "    test_data = {}\n",
    "\n",
    "    test_data['input_ids'] = test_input_ids\n",
    "    test_data['token_type_ids'] = test_token_type_ids\n",
    "    test_data['attention_mask'] = test_attention_masks\n",
    "    test_data['targets'] = test_labels\n",
    "    \n",
    "    os.makedirs('./ft_data/', exist_ok=True)\n",
    "    \n",
    "    with open('./ft_data/law_test_data_preprocessing.pickle', 'wb') as f:\n",
    "        pickle.dump(test_data, f, pickle.HIGHEST_PROTOCOL)"
   ]
  },
  {
   "cell_type": "code",
   "execution_count": 11,
   "id": "d7169ad9",
   "metadata": {},
   "outputs": [
    {
     "data": {
      "application/vnd.jupyter.widget-view+json": {
       "model_id": "0803fc502c1f4df2a95d6cc3081506eb",
       "version_major": 2,
       "version_minor": 0
      },
      "text/plain": [
       "0it [00:00, ?it/s]"
      ]
     },
     "metadata": {},
     "output_type": "display_data"
    },
    {
     "data": {
      "application/vnd.jupyter.widget-view+json": {
       "model_id": "62d825ae605a4e758877c4f7a8e47fce",
       "version_major": 2,
       "version_minor": 0
      },
      "text/plain": [
       "0it [00:00, ?it/s]"
      ]
     },
     "metadata": {},
     "output_type": "display_data"
    },
    {
     "data": {
      "application/vnd.jupyter.widget-view+json": {
       "model_id": "d19077894ede461bbc3ff7e957c6618f",
       "version_major": 2,
       "version_minor": 0
      },
      "text/plain": [
       "0it [00:00, ?it/s]"
      ]
     },
     "metadata": {},
     "output_type": "display_data"
    },
    {
     "name": "stdout",
     "output_type": "stream",
     "text": [
      "Preprocessing Clear\n"
     ]
    }
   ],
   "source": [
    "preprocessing_train()\n",
    "preprocessing_val()\n",
    "preprocessing_test()\n",
    "print('Preprocessing Clear')"
   ]
  },
  {
   "cell_type": "code",
   "execution_count": null,
   "id": "36949d60",
   "metadata": {},
   "outputs": [],
   "source": []
  },
  {
   "cell_type": "markdown",
   "id": "ee1ebbbd",
   "metadata": {},
   "source": [
    "## 6. Train"
   ]
  },
  {
   "cell_type": "markdown",
   "id": "231c8f5b",
   "metadata": {},
   "source": [
    "### (1) 데이터셋 만들기"
   ]
  },
  {
   "cell_type": "code",
   "execution_count": 12,
   "id": "e9855229",
   "metadata": {},
   "outputs": [],
   "source": [
    "with open('./ft_data/law_train_data_preprocessing.pickle', 'rb') as f:\n",
    "    train_dict = pickle.load(f) \n",
    "\n",
    "with open('./ft_data/law_val_data_preprocessing.pickle', 'rb') as f:\n",
    "    val_dict = pickle.load(f)     \n",
    "    \n",
    "with open('./ft_data/law_test_data_preprocessing.pickle', 'rb') as f:\n",
    "    test_dict = pickle.load(f)    "
   ]
  },
  {
   "cell_type": "code",
   "execution_count": 13,
   "id": "06d1b741",
   "metadata": {},
   "outputs": [],
   "source": [
    "class DataSet(Dataset):\n",
    "    \n",
    "    def __init__(self, data, test=False):\n",
    "        \n",
    "        self.data = data\n",
    "        self.test = test\n",
    "        \n",
    "    def __len__(self):\n",
    "        \n",
    "        return self.data['input_ids'].shape[0]\n",
    "    \n",
    "    def __getitem__(self,idx):\n",
    "        \n",
    "        ids = torch.tensor(self.data['input_ids'][idx], dtype=torch.long)\n",
    "        mask = torch.tensor(self.data['attention_mask'][idx], dtype=torch.long)\n",
    "        token_type_ids = torch.tensor(self.data['token_type_ids'][idx], dtype=torch.long)\n",
    "         \n",
    "        if self.test:\n",
    "            return {\n",
    "                'input_ids': ids,\n",
    "                'attention_mask': mask,\n",
    "                'token_type_ids': token_type_ids\n",
    "            }\n",
    "        \n",
    "        else:\n",
    "            target = torch.tensor(self.data['targets'][idx], dtype=torch.long)\n",
    "\n",
    "            return {\n",
    "                    'input_ids': ids,\n",
    "                    'attention_mask': mask,\n",
    "                    'token_type_ids': token_type_ids,\n",
    "                    'labels': target\n",
    "                }"
   ]
  },
  {
   "cell_type": "code",
   "execution_count": 14,
   "id": "2bd72b08",
   "metadata": {},
   "outputs": [],
   "source": [
    "train_dataset = DataSet(data=train_dict)\n",
    "valid_dataset = DataSet(data=val_dict)\n",
    "test_dataset = DataSet(data=test_dict)"
   ]
  },
  {
   "cell_type": "markdown",
   "id": "29b2ed7a",
   "metadata": {},
   "source": [
    "### (2) 모델"
   ]
  },
  {
   "cell_type": "code",
   "execution_count": 15,
   "id": "8a122fa8",
   "metadata": {},
   "outputs": [
    {
     "name": "stderr",
     "output_type": "stream",
     "text": [
      "Some weights of the model checkpoint at ./fp_result/law_further_pretrained/checkpoint-50000 were not used when initializing BertForSequenceClassification: ['cls.predictions.decoder.bias', 'cls.predictions.decoder.weight', 'cls.predictions.transform.dense.weight', 'cls.predictions.bias', 'cls.predictions.transform.LayerNorm.bias', 'cls.predictions.transform.dense.bias', 'cls.predictions.transform.LayerNorm.weight']\n",
      "- This IS expected if you are initializing BertForSequenceClassification from the checkpoint of a model trained on another task or with another architecture (e.g. initializing a BertForSequenceClassification model from a BertForPreTraining model).\n",
      "- This IS NOT expected if you are initializing BertForSequenceClassification from the checkpoint of a model that you expect to be exactly identical (initializing a BertForSequenceClassification model from a BertForSequenceClassification model).\n",
      "Some weights of BertForSequenceClassification were not initialized from the model checkpoint at ./fp_result/law_further_pretrained/checkpoint-50000 and are newly initialized: ['bert.pooler.dense.bias', 'classifier.bias', 'bert.pooler.dense.weight', 'classifier.weight']\n",
      "You should probably TRAIN this model on a down-stream task to be able to use it for predictions and inference.\n"
     ]
    }
   ],
   "source": [
    "model = BertForSequenceClassification.from_pretrained(weight_path, \n",
    "                                                      num_labels = class_n,\n",
    "                                                      problem_type = 'single_label_classification')"
   ]
  },
  {
   "cell_type": "code",
   "execution_count": 16,
   "id": "7f70711f",
   "metadata": {},
   "outputs": [],
   "source": [
    "args = TrainingArguments(\n",
    "    'law_ft_output',\n",
    "    evaluation_strategy = 'epoch',\n",
    "    save_strategy = 'epoch',\n",
    "    per_device_train_batch_size = batch_size,\n",
    "    per_device_eval_batch_size = batch_size,\n",
    "    num_train_epochs = epochs,\n",
    "    load_best_model_at_end = True,\n",
    ")"
   ]
  },
  {
   "cell_type": "code",
   "execution_count": 17,
   "id": "03daefe3",
   "metadata": {},
   "outputs": [],
   "source": [
    "def metrics(predictions, labels):\n",
    "    softmax = torch.nn.Softmax()\n",
    "    probs = softmax(torch.Tensor(predictions))\n",
    "    pred = np.argmax(probs, axis=1)\n",
    "    \n",
    "    accuracy = accuracy_score(y_true=labels, y_pred=pred)\n",
    "    recall = recall_score(y_true=labels, y_pred=pred, average='macro')\n",
    "    precision = precision_score(y_true=labels, y_pred=pred, average='macro')\n",
    "    f1 = f1_score(y_true=labels, y_pred=pred, average='macro')\n",
    "    \n",
    "    metrics = {'f1': f1,\n",
    "               'recall': recall,\n",
    "               'precision': precision,\n",
    "               'accuracy': accuracy}\n",
    "    return metrics\n",
    "\n",
    "\n",
    "def compute_metrics(p: EvalPrediction):\n",
    "    preds = p.predictions[0] if isinstance(p.predictions, tuple) else p.predictions\n",
    "    result = metrics(predictions=preds, labels=p.label_ids)\n",
    "    return result"
   ]
  },
  {
   "cell_type": "code",
   "execution_count": 18,
   "id": "5b40d687",
   "metadata": {},
   "outputs": [
    {
     "data": {
      "text/plain": [
       "SequenceClassifierOutput(loss=tensor(1.4677, grad_fn=<NllLossBackward>), logits=tensor([[ 0.1709,  0.0559, -0.0397,  0.0523, -0.1175]],\n",
       "       grad_fn=<AddmmBackward>), hidden_states=None, attentions=None)"
      ]
     },
     "execution_count": 18,
     "metadata": {},
     "output_type": "execute_result"
    }
   ],
   "source": [
    "#forward pass\n",
    "outputs = model(input_ids = train_dataset[0]['input_ids'].unsqueeze(0),\n",
    "                labels=train_dataset[0]['labels'].unsqueeze(0))\n",
    "outputs"
   ]
  },
  {
   "cell_type": "code",
   "execution_count": 19,
   "id": "f9bcdab3",
   "metadata": {},
   "outputs": [],
   "source": [
    "trainer = Trainer(\n",
    "    model,\n",
    "    args,\n",
    "    train_dataset = train_dataset,\n",
    "    eval_dataset = valid_dataset,\n",
    "    compute_metrics = compute_metrics\n",
    ")"
   ]
  },
  {
   "cell_type": "markdown",
   "id": "427dccaf",
   "metadata": {},
   "source": [
    "### (3) 학습"
   ]
  },
  {
   "cell_type": "code",
   "execution_count": 20,
   "id": "1d1c0293",
   "metadata": {
    "scrolled": true
   },
   "outputs": [
    {
     "name": "stderr",
     "output_type": "stream",
     "text": [
      "C:\\Users\\delab_7\\AppData\\Roaming\\Python\\Python38\\site-packages\\transformers\\optimization.py:306: FutureWarning: This implementation of AdamW is deprecated and will be removed in a future version. Use the PyTorch implementation torch.optim.AdamW instead, or set `no_deprecation_warning=True` to disable this warning\n",
      "  warnings.warn(\n",
      "***** Running training *****\n",
      "  Num examples = 24000\n",
      "  Num Epochs = 10\n",
      "  Instantaneous batch size per device = 32\n",
      "  Total train batch size (w. parallel, distributed & accumulation) = 32\n",
      "  Gradient Accumulation steps = 1\n",
      "  Total optimization steps = 7500\n"
     ]
    },
    {
     "data": {
      "text/html": [
       "\n",
       "    <div>\n",
       "      \n",
       "      <progress value='7500' max='7500' style='width:300px; height:20px; vertical-align: middle;'></progress>\n",
       "      [7500/7500 2:49:21, Epoch 10/10]\n",
       "    </div>\n",
       "    <table border=\"1\" class=\"dataframe\">\n",
       "  <thead>\n",
       " <tr style=\"text-align: left;\">\n",
       "      <th>Epoch</th>\n",
       "      <th>Training Loss</th>\n",
       "      <th>Validation Loss</th>\n",
       "      <th>F1</th>\n",
       "      <th>Recall</th>\n",
       "      <th>Precision</th>\n",
       "      <th>Accuracy</th>\n",
       "    </tr>\n",
       "  </thead>\n",
       "  <tbody>\n",
       "    <tr>\n",
       "      <td>1</td>\n",
       "      <td>1.049800</td>\n",
       "      <td>0.951158</td>\n",
       "      <td>0.616796</td>\n",
       "      <td>0.620750</td>\n",
       "      <td>0.618353</td>\n",
       "      <td>0.620750</td>\n",
       "    </tr>\n",
       "    <tr>\n",
       "      <td>2</td>\n",
       "      <td>0.717000</td>\n",
       "      <td>0.980583</td>\n",
       "      <td>0.618507</td>\n",
       "      <td>0.628500</td>\n",
       "      <td>0.619851</td>\n",
       "      <td>0.628500</td>\n",
       "    </tr>\n",
       "    <tr>\n",
       "      <td>3</td>\n",
       "      <td>0.384700</td>\n",
       "      <td>1.213342</td>\n",
       "      <td>0.630592</td>\n",
       "      <td>0.638875</td>\n",
       "      <td>0.629217</td>\n",
       "      <td>0.638875</td>\n",
       "    </tr>\n",
       "    <tr>\n",
       "      <td>4</td>\n",
       "      <td>0.184100</td>\n",
       "      <td>1.581396</td>\n",
       "      <td>0.622881</td>\n",
       "      <td>0.630375</td>\n",
       "      <td>0.621762</td>\n",
       "      <td>0.630375</td>\n",
       "    </tr>\n",
       "    <tr>\n",
       "      <td>5</td>\n",
       "      <td>0.094400</td>\n",
       "      <td>2.014997</td>\n",
       "      <td>0.624632</td>\n",
       "      <td>0.631000</td>\n",
       "      <td>0.624113</td>\n",
       "      <td>0.631000</td>\n",
       "    </tr>\n",
       "    <tr>\n",
       "      <td>6</td>\n",
       "      <td>0.056800</td>\n",
       "      <td>2.373013</td>\n",
       "      <td>0.636975</td>\n",
       "      <td>0.639625</td>\n",
       "      <td>0.635661</td>\n",
       "      <td>0.639625</td>\n",
       "    </tr>\n",
       "    <tr>\n",
       "      <td>7</td>\n",
       "      <td>0.034400</td>\n",
       "      <td>2.657158</td>\n",
       "      <td>0.632952</td>\n",
       "      <td>0.635750</td>\n",
       "      <td>0.636670</td>\n",
       "      <td>0.635750</td>\n",
       "    </tr>\n",
       "    <tr>\n",
       "      <td>8</td>\n",
       "      <td>0.019300</td>\n",
       "      <td>2.846442</td>\n",
       "      <td>0.637549</td>\n",
       "      <td>0.641125</td>\n",
       "      <td>0.640368</td>\n",
       "      <td>0.641125</td>\n",
       "    </tr>\n",
       "    <tr>\n",
       "      <td>9</td>\n",
       "      <td>0.010000</td>\n",
       "      <td>2.932945</td>\n",
       "      <td>0.639269</td>\n",
       "      <td>0.640625</td>\n",
       "      <td>0.639323</td>\n",
       "      <td>0.640625</td>\n",
       "    </tr>\n",
       "    <tr>\n",
       "      <td>10</td>\n",
       "      <td>0.004300</td>\n",
       "      <td>2.968847</td>\n",
       "      <td>0.638738</td>\n",
       "      <td>0.640125</td>\n",
       "      <td>0.639183</td>\n",
       "      <td>0.640125</td>\n",
       "    </tr>\n",
       "  </tbody>\n",
       "</table><p>"
      ],
      "text/plain": [
       "<IPython.core.display.HTML object>"
      ]
     },
     "metadata": {},
     "output_type": "display_data"
    },
    {
     "name": "stderr",
     "output_type": "stream",
     "text": [
      "***** Running Evaluation *****\n",
      "  Num examples = 8000\n",
      "  Batch size = 32\n",
      "C:\\Users\\delab_7\\AppData\\Local\\Temp\\2\\ipykernel_16920\\1939609098.py:3: UserWarning: Implicit dimension choice for softmax has been deprecated. Change the call to include dim=X as an argument.\n",
      "  probs = softmax(torch.Tensor(predictions))\n",
      "Saving model checkpoint to law_ft_output\\checkpoint-750\n",
      "Configuration saved in law_ft_output\\checkpoint-750\\config.json\n",
      "Model weights saved in law_ft_output\\checkpoint-750\\pytorch_model.bin\n",
      "***** Running Evaluation *****\n",
      "  Num examples = 8000\n",
      "  Batch size = 32\n",
      "C:\\Users\\delab_7\\AppData\\Local\\Temp\\2\\ipykernel_16920\\1939609098.py:3: UserWarning: Implicit dimension choice for softmax has been deprecated. Change the call to include dim=X as an argument.\n",
      "  probs = softmax(torch.Tensor(predictions))\n",
      "Saving model checkpoint to law_ft_output\\checkpoint-1500\n",
      "Configuration saved in law_ft_output\\checkpoint-1500\\config.json\n",
      "Model weights saved in law_ft_output\\checkpoint-1500\\pytorch_model.bin\n",
      "***** Running Evaluation *****\n",
      "  Num examples = 8000\n",
      "  Batch size = 32\n",
      "C:\\Users\\delab_7\\AppData\\Local\\Temp\\2\\ipykernel_16920\\1939609098.py:3: UserWarning: Implicit dimension choice for softmax has been deprecated. Change the call to include dim=X as an argument.\n",
      "  probs = softmax(torch.Tensor(predictions))\n",
      "Saving model checkpoint to law_ft_output\\checkpoint-2250\n",
      "Configuration saved in law_ft_output\\checkpoint-2250\\config.json\n",
      "Model weights saved in law_ft_output\\checkpoint-2250\\pytorch_model.bin\n",
      "***** Running Evaluation *****\n",
      "  Num examples = 8000\n",
      "  Batch size = 32\n",
      "C:\\Users\\delab_7\\AppData\\Local\\Temp\\2\\ipykernel_16920\\1939609098.py:3: UserWarning: Implicit dimension choice for softmax has been deprecated. Change the call to include dim=X as an argument.\n",
      "  probs = softmax(torch.Tensor(predictions))\n",
      "Saving model checkpoint to law_ft_output\\checkpoint-3000\n",
      "Configuration saved in law_ft_output\\checkpoint-3000\\config.json\n",
      "Model weights saved in law_ft_output\\checkpoint-3000\\pytorch_model.bin\n",
      "***** Running Evaluation *****\n",
      "  Num examples = 8000\n",
      "  Batch size = 32\n",
      "C:\\Users\\delab_7\\AppData\\Local\\Temp\\2\\ipykernel_16920\\1939609098.py:3: UserWarning: Implicit dimension choice for softmax has been deprecated. Change the call to include dim=X as an argument.\n",
      "  probs = softmax(torch.Tensor(predictions))\n",
      "Saving model checkpoint to law_ft_output\\checkpoint-3750\n",
      "Configuration saved in law_ft_output\\checkpoint-3750\\config.json\n",
      "Model weights saved in law_ft_output\\checkpoint-3750\\pytorch_model.bin\n",
      "***** Running Evaluation *****\n",
      "  Num examples = 8000\n",
      "  Batch size = 32\n",
      "C:\\Users\\delab_7\\AppData\\Local\\Temp\\2\\ipykernel_16920\\1939609098.py:3: UserWarning: Implicit dimension choice for softmax has been deprecated. Change the call to include dim=X as an argument.\n",
      "  probs = softmax(torch.Tensor(predictions))\n",
      "Saving model checkpoint to law_ft_output\\checkpoint-4500\n",
      "Configuration saved in law_ft_output\\checkpoint-4500\\config.json\n",
      "Model weights saved in law_ft_output\\checkpoint-4500\\pytorch_model.bin\n",
      "***** Running Evaluation *****\n",
      "  Num examples = 8000\n",
      "  Batch size = 32\n",
      "C:\\Users\\delab_7\\AppData\\Local\\Temp\\2\\ipykernel_16920\\1939609098.py:3: UserWarning: Implicit dimension choice for softmax has been deprecated. Change the call to include dim=X as an argument.\n",
      "  probs = softmax(torch.Tensor(predictions))\n",
      "Saving model checkpoint to law_ft_output\\checkpoint-5250\n",
      "Configuration saved in law_ft_output\\checkpoint-5250\\config.json\n",
      "Model weights saved in law_ft_output\\checkpoint-5250\\pytorch_model.bin\n",
      "***** Running Evaluation *****\n",
      "  Num examples = 8000\n",
      "  Batch size = 32\n",
      "C:\\Users\\delab_7\\AppData\\Local\\Temp\\2\\ipykernel_16920\\1939609098.py:3: UserWarning: Implicit dimension choice for softmax has been deprecated. Change the call to include dim=X as an argument.\n",
      "  probs = softmax(torch.Tensor(predictions))\n",
      "Saving model checkpoint to law_ft_output\\checkpoint-6000\n",
      "Configuration saved in law_ft_output\\checkpoint-6000\\config.json\n",
      "Model weights saved in law_ft_output\\checkpoint-6000\\pytorch_model.bin\n",
      "***** Running Evaluation *****\n",
      "  Num examples = 8000\n",
      "  Batch size = 32\n",
      "C:\\Users\\delab_7\\AppData\\Local\\Temp\\2\\ipykernel_16920\\1939609098.py:3: UserWarning: Implicit dimension choice for softmax has been deprecated. Change the call to include dim=X as an argument.\n",
      "  probs = softmax(torch.Tensor(predictions))\n",
      "Saving model checkpoint to law_ft_output\\checkpoint-6750\n",
      "Configuration saved in law_ft_output\\checkpoint-6750\\config.json\n",
      "Model weights saved in law_ft_output\\checkpoint-6750\\pytorch_model.bin\n",
      "***** Running Evaluation *****\n",
      "  Num examples = 8000\n",
      "  Batch size = 32\n",
      "C:\\Users\\delab_7\\AppData\\Local\\Temp\\2\\ipykernel_16920\\1939609098.py:3: UserWarning: Implicit dimension choice for softmax has been deprecated. Change the call to include dim=X as an argument.\n",
      "  probs = softmax(torch.Tensor(predictions))\n",
      "Saving model checkpoint to law_ft_output\\checkpoint-7500\n",
      "Configuration saved in law_ft_output\\checkpoint-7500\\config.json\n",
      "Model weights saved in law_ft_output\\checkpoint-7500\\pytorch_model.bin\n",
      "\n",
      "\n",
      "Training completed. Do not forget to share your model on huggingface.co/models =)\n",
      "\n",
      "\n",
      "Loading best model from law_ft_output\\checkpoint-750 (score: 0.951158344745636).\n"
     ]
    },
    {
     "data": {
      "text/plain": [
       "TrainOutput(global_step=7500, training_loss=0.25233156305948895, metrics={'train_runtime': 10164.5547, 'train_samples_per_second': 23.611, 'train_steps_per_second': 0.738, 'total_flos': 3.7000988784e+16, 'train_loss': 0.25233156305948895, 'epoch': 10.0})"
      ]
     },
     "execution_count": 20,
     "metadata": {},
     "output_type": "execute_result"
    }
   ],
   "source": [
    "trainer.train()"
   ]
  },
  {
   "cell_type": "markdown",
   "id": "c233a29a",
   "metadata": {},
   "source": [
    "### (4) 검증"
   ]
  },
  {
   "cell_type": "code",
   "execution_count": 21,
   "id": "d932fab6",
   "metadata": {},
   "outputs": [
    {
     "name": "stderr",
     "output_type": "stream",
     "text": [
      "***** Running Evaluation *****\n",
      "  Num examples = 8000\n",
      "  Batch size = 32\n"
     ]
    },
    {
     "data": {
      "text/html": [],
      "text/plain": [
       "<IPython.core.display.HTML object>"
      ]
     },
     "metadata": {},
     "output_type": "display_data"
    },
    {
     "name": "stderr",
     "output_type": "stream",
     "text": [
      "C:\\Users\\delab_7\\AppData\\Local\\Temp\\2\\ipykernel_16920\\1939609098.py:3: UserWarning: Implicit dimension choice for softmax has been deprecated. Change the call to include dim=X as an argument.\n",
      "  probs = softmax(torch.Tensor(predictions))\n"
     ]
    },
    {
     "data": {
      "text/plain": [
       "{'eval_loss': 0.951158344745636,\n",
       " 'eval_f1': 0.6167962100986971,\n",
       " 'eval_recall': 0.6207499999999999,\n",
       " 'eval_precision': 0.6183533018802114,\n",
       " 'eval_accuracy': 0.62075,\n",
       " 'eval_runtime': 46.2096,\n",
       " 'eval_samples_per_second': 173.124,\n",
       " 'eval_steps_per_second': 5.41,\n",
       " 'epoch': 10.0}"
      ]
     },
     "execution_count": 21,
     "metadata": {},
     "output_type": "execute_result"
    }
   ],
   "source": [
    "trainer.evaluate()"
   ]
  },
  {
   "cell_type": "code",
   "execution_count": null,
   "id": "4dd3f66f",
   "metadata": {},
   "outputs": [],
   "source": []
  },
  {
   "cell_type": "markdown",
   "id": "c17a25f6",
   "metadata": {},
   "source": [
    "## 7. 성능 평가"
   ]
  },
  {
   "cell_type": "code",
   "execution_count": 22,
   "id": "136bd0b9",
   "metadata": {},
   "outputs": [
    {
     "name": "stderr",
     "output_type": "stream",
     "text": [
      "***** Running Prediction *****\n",
      "  Num examples = 8000\n",
      "  Batch size = 32\n",
      "C:\\Users\\delab_7\\AppData\\Local\\Temp\\2\\ipykernel_16920\\1939609098.py:3: UserWarning: Implicit dimension choice for softmax has been deprecated. Change the call to include dim=X as an argument.\n",
      "  probs = softmax(torch.Tensor(predictions))\n"
     ]
    },
    {
     "data": {
      "text/plain": [
       "PredictionOutput(predictions=array([[ 1.8078022 ,  1.3283167 , -2.1738224 ,  1.0100536 , -1.100724  ],\n",
       "       [ 2.5921829 ,  0.92069006, -2.0989711 ,  0.658214  , -1.1920718 ],\n",
       "       [ 2.2641647 ,  0.67087054, -1.2642353 ,  0.55750597, -1.1980045 ],\n",
       "       ...,\n",
       "       [-2.1291132 ,  1.1156294 , -2.7146127 , -0.24712716,  2.8232567 ],\n",
       "       [-0.7200876 ,  0.8877388 , -2.9773626 ,  1.0265913 ,  1.6065918 ],\n",
       "       [-2.229726  ,  0.850789  , -1.8509374 , -1.0070518 ,  3.5884283 ]],\n",
       "      dtype=float32), label_ids=array([0, 0, 0, ..., 4, 4, 4], dtype=int64), metrics={'test_loss': 0.9332849383354187, 'test_f1': 0.6283778784611795, 'test_recall': 0.633875, 'test_precision': 0.6288883261969027, 'test_accuracy': 0.633875, 'test_runtime': 46.3259, 'test_samples_per_second': 172.69, 'test_steps_per_second': 5.397})"
      ]
     },
     "execution_count": 22,
     "metadata": {},
     "output_type": "execute_result"
    }
   ],
   "source": [
    "trainer.predict(test_dataset)"
   ]
  },
  {
   "cell_type": "code",
   "execution_count": null,
   "id": "50bf9eb6",
   "metadata": {},
   "outputs": [],
   "source": []
  }
 ],
 "metadata": {
  "kernelspec": {
   "display_name": "Python 3 (ipykernel)",
   "language": "python",
   "name": "python3"
  },
  "language_info": {
   "codemirror_mode": {
    "name": "ipython",
    "version": 3
   },
   "file_extension": ".py",
   "mimetype": "text/x-python",
   "name": "python",
   "nbconvert_exporter": "python",
   "pygments_lexer": "ipython3",
   "version": "3.8.13"
  }
 },
 "nbformat": 4,
 "nbformat_minor": 5
}
