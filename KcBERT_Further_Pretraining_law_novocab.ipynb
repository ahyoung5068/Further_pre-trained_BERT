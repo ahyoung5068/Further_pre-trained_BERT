{
 "cells": [
  {
   "cell_type": "markdown",
   "id": "5d652725",
   "metadata": {},
   "source": [
    "## 1. Library Import"
   ]
  },
  {
   "cell_type": "code",
   "execution_count": 1,
   "id": "d470dd34",
   "metadata": {},
   "outputs": [],
   "source": [
    "import os\n",
    "import sys\n",
    "import numpy as np\n",
    "import pandas as pd\n",
    "import pickle\n",
    "import random\n",
    "\n",
    "from tqdm.notebook import tqdm\n",
    "tqdm.pandas()\n",
    "\n",
    "import torch\n",
    "from transformers import AutoTokenizer, AutoModelForMaskedLM, AutoModel\n",
    "from transformers import Trainer, TrainingArguments\n",
    "from transformers import DataCollatorForLanguageModeling\n",
    "\n",
    "from sklearn.model_selection import train_test_split"
   ]
  },
  {
   "cell_type": "code",
   "execution_count": 2,
   "id": "cd8126bf",
   "metadata": {},
   "outputs": [
    {
     "name": "stdout",
     "output_type": "stream",
     "text": [
      "Device: cuda\n",
      "Count of using GPUs: 1\n",
      "Current cuda device: 0\n"
     ]
    }
   ],
   "source": [
    "os.environ['CUDA_DEVICE_ORDER'] = 'PCI_BUS_ID'\n",
    "os.environ['CUDA_VISIBLE_DEVICES']= '0'\n",
    "\n",
    "device = torch.device('cuda' if torch.cuda.is_available() else 'cpu')\n",
    "\n",
    "print('Device:', device)  # 출력결과: cuda \n",
    "print('Count of using GPUs:', torch.cuda.device_count()) \n",
    "print('Current cuda device:', torch.cuda.current_device()) "
   ]
  },
  {
   "cell_type": "code",
   "execution_count": 3,
   "id": "77469780",
   "metadata": {},
   "outputs": [],
   "source": [
    "seed = 42\n",
    "\n",
    "def set_seeds(seed):\n",
    "    random.seed(seed)\n",
    "    os.environ['PYTHONHASHSEED'] = str(seed)\n",
    "    np.random.seed(seed)\n",
    "    torch.manual_seed(seed)\n",
    "    torch.cuda.manual_seed(seed)\n",
    "    torch.cuda.manual_seed_all(seed)\n",
    "    torch.backends.cudnn.deterministic = True\n",
    "    torch.backends.cudnn.benchmark = False # for faster training, but not deterministic\n",
    "\n",
    "set_seeds(seed)"
   ]
  },
  {
   "cell_type": "code",
   "execution_count": null,
   "id": "f968e7d8",
   "metadata": {},
   "outputs": [],
   "source": []
  },
  {
   "cell_type": "markdown",
   "id": "ddcd348b",
   "metadata": {},
   "source": [
    "## 2. Hyper-Parameter"
   ]
  },
  {
   "cell_type": "code",
   "execution_count": 4,
   "id": "a4be10e7",
   "metadata": {},
   "outputs": [],
   "source": [
    "weight_path = 'beomi/kcbert-base'\n",
    "max_len = 300\n",
    "epochs = 20\n",
    "batch_size = 32"
   ]
  },
  {
   "cell_type": "code",
   "execution_count": null,
   "id": "3e98e53c",
   "metadata": {},
   "outputs": [],
   "source": []
  },
  {
   "cell_type": "markdown",
   "id": "bc204b84",
   "metadata": {},
   "source": [
    "## 3. Data Load"
   ]
  },
  {
   "cell_type": "code",
   "execution_count": 5,
   "id": "45fb958b",
   "metadata": {},
   "outputs": [],
   "source": [
    "law_data = pd.read_csv('./data/law_fp.csv')\n",
    "\n",
    "del law_data['Unnamed: 0']"
   ]
  },
  {
   "cell_type": "code",
   "execution_count": 6,
   "id": "e58106f4",
   "metadata": {},
   "outputs": [
    {
     "data": {
      "text/html": [
       "<div>\n",
       "<style scoped>\n",
       "    .dataframe tbody tr th:only-of-type {\n",
       "        vertical-align: middle;\n",
       "    }\n",
       "\n",
       "    .dataframe tbody tr th {\n",
       "        vertical-align: top;\n",
       "    }\n",
       "\n",
       "    .dataframe thead th {\n",
       "        text-align: right;\n",
       "    }\n",
       "</style>\n",
       "<table border=\"1\" class=\"dataframe\">\n",
       "  <thead>\n",
       "    <tr style=\"text-align: right;\">\n",
       "      <th></th>\n",
       "      <th>subdomain</th>\n",
       "      <th>pre_content</th>\n",
       "      <th>content</th>\n",
       "      <th>label</th>\n",
       "    </tr>\n",
       "  </thead>\n",
       "  <tbody>\n",
       "    <tr>\n",
       "      <th>0</th>\n",
       "      <td>민법</td>\n",
       "      <td>그 당시 알 수 있었거나 또는 알고서 이를 주장하지 않았던 사항에 한하여서만 기판력...</td>\n",
       "      <td>그 당시 알 수 있었거나 또는 알고서 이를 주장하지 않았던 사항에 한하여서만 기판력...</td>\n",
       "      <td>0</td>\n",
       "    </tr>\n",
       "    <tr>\n",
       "      <th>1</th>\n",
       "      <td>민법</td>\n",
       "      <td>이러한 흐름은 표현의 자유에 대하여 강한 보호를 부여해 온 미국의 전통과 관련이 깊...</td>\n",
       "      <td>이러한 흐름은 표현의 자유에 대하여 강한 보호를 부여해 온 미국의 전통과 관련이 깊...</td>\n",
       "      <td>0</td>\n",
       "    </tr>\n",
       "    <tr>\n",
       "      <th>2</th>\n",
       "      <td>민법</td>\n",
       "      <td>양도 제한 조건부 주식은 임직원에게 일정 기간 동안 처분이 금지되는 주식을 지급하는...</td>\n",
       "      <td>양도 제한 조건부 주식은 임직원에게 일정 기간 동안 처분이 금지되는 주식을 지급하는...</td>\n",
       "      <td>0</td>\n",
       "    </tr>\n",
       "    <tr>\n",
       "      <th>3</th>\n",
       "      <td>민법</td>\n",
       "      <td>대법원도 판례 과 판례 에서 이와 동일하게 판단하였다</td>\n",
       "      <td>대법원도 판례 1과 판례 3에서, 이와 동일하게 판단하였다.</td>\n",
       "      <td>0</td>\n",
       "    </tr>\n",
       "    <tr>\n",
       "      <th>4</th>\n",
       "      <td>민법</td>\n",
       "      <td>제 조 제 조에서의 해제를 하면 증여 계약은 처음부터 절대적으로 무효가 되고 이러한...</td>\n",
       "      <td>제555조∼제558조에서의 해제를 하면, 증여 계약은 처음부터 절대적으로 무효가 되...</td>\n",
       "      <td>0</td>\n",
       "    </tr>\n",
       "    <tr>\n",
       "      <th>...</th>\n",
       "      <td>...</td>\n",
       "      <td>...</td>\n",
       "      <td>...</td>\n",
       "      <td>...</td>\n",
       "    </tr>\n",
       "    <tr>\n",
       "      <th>99995</th>\n",
       "      <td>형법</td>\n",
       "      <td>진입하기 전 자동조타에서 수동 조타로 바꾸었다는 것으로도 짐작 가능하다</td>\n",
       "      <td>진입하기 전 자동조타에서 수동 조타로 바꾸었다는 것으로도 짐작 가능하다.</td>\n",
       "      <td>4</td>\n",
       "    </tr>\n",
       "    <tr>\n",
       "      <th>99996</th>\n",
       "      <td>형법</td>\n",
       "      <td>자수범과 의무범의 경우에는 적용될 수 없음을 논의의 전제로서 못박고 있다</td>\n",
       "      <td>자수범과 의무범의 경우에는 적용될 수 없음을 논의의 전제로서 못박고 있다.</td>\n",
       "      <td>4</td>\n",
       "    </tr>\n",
       "    <tr>\n",
       "      <th>99997</th>\n",
       "      <td>형법</td>\n",
       "      <td>이를 킨트호이저의 말을 빌어 표현하면 정범은 그 사건을 형법적 의미에서 그 사람의 ...</td>\n",
       "      <td>이를 킨트호이저의 말을 빌어 표현하면, 정범은 그 사건을 형법적 의미에서 그 사람의...</td>\n",
       "      <td>4</td>\n",
       "    </tr>\n",
       "    <tr>\n",
       "      <th>99998</th>\n",
       "      <td>형법</td>\n",
       "      <td>한편 낙태행위의 시점까지 태아가 생존하고 있지 않으면 안되고 이미 사망한 태아는 낙...</td>\n",
       "      <td>한편 낙태행위의 시점까지 태아가 생존하고 있지 않으면 안되고, 이미 사망한 태아는 ...</td>\n",
       "      <td>4</td>\n",
       "    </tr>\n",
       "    <tr>\n",
       "      <th>99999</th>\n",
       "      <td>형법</td>\n",
       "      <td>완전 명정죄의 도입에 있어서 제도 도입의 필요성과 타당성에 대한 신중한 고려가 필요하다</td>\n",
       "      <td>완전 명정죄의 도입에 있어서 제도 도입의 필요성과 타당성에 대한 신중한 고려가 필요하다.</td>\n",
       "      <td>4</td>\n",
       "    </tr>\n",
       "  </tbody>\n",
       "</table>\n",
       "<p>100000 rows × 4 columns</p>\n",
       "</div>"
      ],
      "text/plain": [
       "      subdomain                                        pre_content  \\\n",
       "0            민법  그 당시 알 수 있었거나 또는 알고서 이를 주장하지 않았던 사항에 한하여서만 기판력...   \n",
       "1            민법  이러한 흐름은 표현의 자유에 대하여 강한 보호를 부여해 온 미국의 전통과 관련이 깊...   \n",
       "2            민법  양도 제한 조건부 주식은 임직원에게 일정 기간 동안 처분이 금지되는 주식을 지급하는...   \n",
       "3            민법                     대법원도 판례 과 판례 에서 이와 동일하게 판단하였다    \n",
       "4            민법  제 조 제 조에서의 해제를 하면 증여 계약은 처음부터 절대적으로 무효가 되고 이러한...   \n",
       "...         ...                                                ...   \n",
       "99995        형법           진입하기 전 자동조타에서 수동 조타로 바꾸었다는 것으로도 짐작 가능하다    \n",
       "99996        형법          자수범과 의무범의 경우에는 적용될 수 없음을 논의의 전제로서 못박고 있다    \n",
       "99997        형법  이를 킨트호이저의 말을 빌어 표현하면 정범은 그 사건을 형법적 의미에서 그 사람의 ...   \n",
       "99998        형법  한편 낙태행위의 시점까지 태아가 생존하고 있지 않으면 안되고 이미 사망한 태아는 낙...   \n",
       "99999        형법  완전 명정죄의 도입에 있어서 제도 도입의 필요성과 타당성에 대한 신중한 고려가 필요하다    \n",
       "\n",
       "                                                 content  label  \n",
       "0      그 당시 알 수 있었거나 또는 알고서 이를 주장하지 않았던 사항에 한하여서만 기판력...      0  \n",
       "1      이러한 흐름은 표현의 자유에 대하여 강한 보호를 부여해 온 미국의 전통과 관련이 깊...      0  \n",
       "2      양도 제한 조건부 주식은 임직원에게 일정 기간 동안 처분이 금지되는 주식을 지급하는...      0  \n",
       "3                      대법원도 판례 1과 판례 3에서, 이와 동일하게 판단하였다.      0  \n",
       "4      제555조∼제558조에서의 해제를 하면, 증여 계약은 처음부터 절대적으로 무효가 되...      0  \n",
       "...                                                  ...    ...  \n",
       "99995           진입하기 전 자동조타에서 수동 조타로 바꾸었다는 것으로도 짐작 가능하다.      4  \n",
       "99996          자수범과 의무범의 경우에는 적용될 수 없음을 논의의 전제로서 못박고 있다.      4  \n",
       "99997  이를 킨트호이저의 말을 빌어 표현하면, 정범은 그 사건을 형법적 의미에서 그 사람의...      4  \n",
       "99998  한편 낙태행위의 시점까지 태아가 생존하고 있지 않으면 안되고, 이미 사망한 태아는 ...      4  \n",
       "99999  완전 명정죄의 도입에 있어서 제도 도입의 필요성과 타당성에 대한 신중한 고려가 필요하다.      4  \n",
       "\n",
       "[100000 rows x 4 columns]"
      ]
     },
     "execution_count": 6,
     "metadata": {},
     "output_type": "execute_result"
    }
   ],
   "source": [
    "law_data"
   ]
  },
  {
   "cell_type": "code",
   "execution_count": null,
   "id": "7409db3c",
   "metadata": {},
   "outputs": [],
   "source": []
  },
  {
   "cell_type": "markdown",
   "id": "22ca09ff",
   "metadata": {},
   "source": [
    "## 4. Data Split"
   ]
  },
  {
   "cell_type": "code",
   "execution_count": 7,
   "id": "d154b8ca",
   "metadata": {},
   "outputs": [],
   "source": [
    "# train_pretrain / fine_tuning split\n",
    "train_data, val_data, train_label, val_label = train_test_split(law_data[law_data.columns[:-1]],\n",
    "                                                                law_data['label'],\n",
    "                                                                test_size = 0.2,\n",
    "                                                                random_state = 42)"
   ]
  },
  {
   "cell_type": "code",
   "execution_count": 8,
   "id": "2a82258e",
   "metadata": {},
   "outputs": [
    {
     "data": {
      "text/plain": [
       "4    16022\n",
       "3    16013\n",
       "2    15998\n",
       "1    15985\n",
       "0    15982\n",
       "Name: label, dtype: int64"
      ]
     },
     "execution_count": 8,
     "metadata": {},
     "output_type": "execute_result"
    }
   ],
   "source": [
    "train_label.value_counts()"
   ]
  },
  {
   "cell_type": "code",
   "execution_count": 9,
   "id": "0320afa1",
   "metadata": {
    "scrolled": true
   },
   "outputs": [
    {
     "data": {
      "text/plain": [
       "0    4018\n",
       "1    4015\n",
       "2    4002\n",
       "3    3987\n",
       "4    3978\n",
       "Name: label, dtype: int64"
      ]
     },
     "execution_count": 9,
     "metadata": {},
     "output_type": "execute_result"
    }
   ],
   "source": [
    "val_label.value_counts()"
   ]
  },
  {
   "cell_type": "code",
   "execution_count": 10,
   "id": "1b237535",
   "metadata": {},
   "outputs": [],
   "source": [
    "law_train = train_data.copy()\n",
    "law_train['label'] = train_label\n",
    "\n",
    "law_val = val_data.copy()\n",
    "law_val['label'] = val_label"
   ]
  },
  {
   "cell_type": "code",
   "execution_count": 11,
   "id": "a62631e1",
   "metadata": {},
   "outputs": [
    {
     "name": "stdout",
     "output_type": "stream",
     "text": [
      "80000 20000\n"
     ]
    }
   ],
   "source": [
    "print(len(law_train), len(law_val))"
   ]
  },
  {
   "cell_type": "code",
   "execution_count": 12,
   "id": "409c6d46",
   "metadata": {},
   "outputs": [],
   "source": [
    "law_train.to_csv('./data/law_fp_train.csv')\n",
    "law_val.to_csv('./data/law_fp_val.csv')"
   ]
  },
  {
   "cell_type": "code",
   "execution_count": null,
   "id": "41ed51f7",
   "metadata": {},
   "outputs": [],
   "source": []
  },
  {
   "cell_type": "markdown",
   "id": "4f0c2a41",
   "metadata": {},
   "source": [
    "## 6. MLM(Further Pre-training)"
   ]
  },
  {
   "cell_type": "code",
   "execution_count": 13,
   "id": "e509927d",
   "metadata": {},
   "outputs": [
    {
     "name": "stderr",
     "output_type": "stream",
     "text": [
      "Some weights of the model checkpoint at beomi/kcbert-base were not used when initializing BertForMaskedLM: ['cls.seq_relationship.bias', 'cls.seq_relationship.weight']\n",
      "- This IS expected if you are initializing BertForMaskedLM from the checkpoint of a model trained on another task or with another architecture (e.g. initializing a BertForSequenceClassification model from a BertForPreTraining model).\n",
      "- This IS NOT expected if you are initializing BertForMaskedLM from the checkpoint of a model that you expect to be exactly identical (initializing a BertForSequenceClassification model from a BertForSequenceClassification model).\n"
     ]
    }
   ],
   "source": [
    "mlm_model = AutoModelForMaskedLM.from_pretrained(weight_path)\n",
    "tokenizer = AutoTokenizer.from_pretrained(weight_path)"
   ]
  },
  {
   "cell_type": "markdown",
   "id": "b078f1e7",
   "metadata": {},
   "source": [
    "### (1) MLM 형태로 변환"
   ]
  },
  {
   "cell_type": "code",
   "execution_count": 14,
   "id": "388842c9",
   "metadata": {},
   "outputs": [],
   "source": [
    "def tokenize_function(sentence):\n",
    "    text = tokenizer(sentence, add_special_tokens=True, max_length=max_len, padding='max_length', truncation=True)\n",
    "    text['labels'] = text['input_ids'].copy()\n",
    "    return text"
   ]
  },
  {
   "cell_type": "code",
   "execution_count": 15,
   "id": "e7219ede",
   "metadata": {},
   "outputs": [
    {
     "data": {
      "text/html": [
       "<div>\n",
       "<style scoped>\n",
       "    .dataframe tbody tr th:only-of-type {\n",
       "        vertical-align: middle;\n",
       "    }\n",
       "\n",
       "    .dataframe tbody tr th {\n",
       "        vertical-align: top;\n",
       "    }\n",
       "\n",
       "    .dataframe thead th {\n",
       "        text-align: right;\n",
       "    }\n",
       "</style>\n",
       "<table border=\"1\" class=\"dataframe\">\n",
       "  <thead>\n",
       "    <tr style=\"text-align: right;\">\n",
       "      <th></th>\n",
       "      <th>subdomain</th>\n",
       "      <th>pre_content</th>\n",
       "      <th>content</th>\n",
       "      <th>label</th>\n",
       "      <th>token</th>\n",
       "    </tr>\n",
       "  </thead>\n",
       "  <tbody>\n",
       "    <tr>\n",
       "      <th>75220</th>\n",
       "      <td>판례</td>\n",
       "      <td>인수합병을 추진하는 입장에서 피고인에게 회사일을 거론할 수는 없었다는 정의 법정 진...</td>\n",
       "      <td>인수합병을 추진하는 입장에서 피고인에게 회사일을 거론할 수는 없었다는 정의 법정 진...</td>\n",
       "      <td>3</td>\n",
       "      <td>[input_ids, token_type_ids, attention_mask, la...</td>\n",
       "    </tr>\n",
       "    <tr>\n",
       "      <th>48955</th>\n",
       "      <td>세법</td>\n",
       "      <td>이는 차명거래를 한 데 대한 제재의 성격을 갖고 있다고 볼 수밖에 없다</td>\n",
       "      <td>이는 차명거래를 한 데 대한 제재의 성격을 갖고 있다고 볼 수밖에 없다.</td>\n",
       "      <td>2</td>\n",
       "      <td>[input_ids, token_type_ids, attention_mask, la...</td>\n",
       "    </tr>\n",
       "    <tr>\n",
       "      <th>44966</th>\n",
       "      <td>세법</td>\n",
       "      <td>행정 담당 공무원들은 년 담당하다가 자리를 옮기니 전문성을 갖출 시간이 부족하다</td>\n",
       "      <td>행정 담당 공무원들은 1∼2년 담당하다가 자리를 옮기니 전문성을 갖출 시간이 부족하다.</td>\n",
       "      <td>2</td>\n",
       "      <td>[input_ids, token_type_ids, attention_mask, la...</td>\n",
       "    </tr>\n",
       "    <tr>\n",
       "      <th>13568</th>\n",
       "      <td>민법</td>\n",
       "      <td>우리 민법은 이러한 일본민법의 태도를 따른 것이다</td>\n",
       "      <td>우리 민법은 이러한 일본민법의 태도를 따른 것이다.</td>\n",
       "      <td>0</td>\n",
       "      <td>[input_ids, token_type_ids, attention_mask, la...</td>\n",
       "    </tr>\n",
       "    <tr>\n",
       "      <th>92727</th>\n",
       "      <td>형법</td>\n",
       "      <td>채굴을 통해서 생성된 블록이 블록체인에 결합되기 위해서는 일정한 요건을 충족해야 한다</td>\n",
       "      <td>채굴을 통해서 생성된 블록이 블록체인에 결합되기 위해서는 일정한 요건을 충족해야 한다.</td>\n",
       "      <td>4</td>\n",
       "      <td>[input_ids, token_type_ids, attention_mask, la...</td>\n",
       "    </tr>\n",
       "    <tr>\n",
       "      <th>...</th>\n",
       "      <td>...</td>\n",
       "      <td>...</td>\n",
       "      <td>...</td>\n",
       "      <td>...</td>\n",
       "      <td>...</td>\n",
       "    </tr>\n",
       "    <tr>\n",
       "      <th>6265</th>\n",
       "      <td>민법</td>\n",
       "      <td>머신 러닝 기술을 활용하면 라는 미지의 입력 내용에 대해서도 컴퓨터는 이렇게 하면 ...</td>\n",
       "      <td>머신 러닝 기술을 활용하면 Z라는 미지의 입력 내용에 대해서도 컴퓨터는 이렇게 하면...</td>\n",
       "      <td>0</td>\n",
       "      <td>[input_ids, token_type_ids, attention_mask, la...</td>\n",
       "    </tr>\n",
       "    <tr>\n",
       "      <th>54886</th>\n",
       "      <td>세법</td>\n",
       "      <td>이에 따르면 시스템에 대한 사용자의 일반적 만족도는 동 시스템 구축 이전 자치단체별...</td>\n",
       "      <td>이에 따르면, 시스템에 대한 사용자의 일반적 만족도는 동 시스템 구축 이전 자치단체...</td>\n",
       "      <td>2</td>\n",
       "      <td>[input_ids, token_type_ids, attention_mask, la...</td>\n",
       "    </tr>\n",
       "    <tr>\n",
       "      <th>76820</th>\n",
       "      <td>판례</td>\n",
       "      <td>근본적으로는 국내 해사 중재 활성화를 위한 기본 토대가 갖춰져 있지 않다는 점을 들...</td>\n",
       "      <td>근본적으로는, 국내 해사 중재 활성화를 위한 기본 토대가 갖춰져 있지 않다는 점을 ...</td>\n",
       "      <td>3</td>\n",
       "      <td>[input_ids, token_type_ids, attention_mask, la...</td>\n",
       "    </tr>\n",
       "    <tr>\n",
       "      <th>860</th>\n",
       "      <td>민법</td>\n",
       "      <td>또한 는 증권거래세를 부과함에 따라 과세정보의 외부효과로 인하여 자원의 낭비를 감소...</td>\n",
       "      <td>또한, AAA는 증권거래세를 부과함에 따라 과세정보의 외부효과로 인하여 자원의 낭비...</td>\n",
       "      <td>0</td>\n",
       "      <td>[input_ids, token_type_ids, attention_mask, la...</td>\n",
       "    </tr>\n",
       "    <tr>\n",
       "      <th>15795</th>\n",
       "      <td>민법</td>\n",
       "      <td>기회이용의 허용을 통해 회사에 도움이 되는 거래가 증가한다면 기업가치가 상승할 것이다</td>\n",
       "      <td>기회이용의 허용을 통해 회사에 도움이 되는 거래가 증가한다면 기업가치가 상승할 것이다.</td>\n",
       "      <td>0</td>\n",
       "      <td>[input_ids, token_type_ids, attention_mask, la...</td>\n",
       "    </tr>\n",
       "  </tbody>\n",
       "</table>\n",
       "<p>80000 rows × 5 columns</p>\n",
       "</div>"
      ],
      "text/plain": [
       "      subdomain                                        pre_content  \\\n",
       "75220        판례  인수합병을 추진하는 입장에서 피고인에게 회사일을 거론할 수는 없었다는 정의 법정 진...   \n",
       "48955        세법           이는 차명거래를 한 데 대한 제재의 성격을 갖고 있다고 볼 수밖에 없다    \n",
       "44966        세법      행정 담당 공무원들은 년 담당하다가 자리를 옮기니 전문성을 갖출 시간이 부족하다    \n",
       "13568        민법                       우리 민법은 이러한 일본민법의 태도를 따른 것이다    \n",
       "92727        형법   채굴을 통해서 생성된 블록이 블록체인에 결합되기 위해서는 일정한 요건을 충족해야 한다    \n",
       "...         ...                                                ...   \n",
       "6265         민법  머신 러닝 기술을 활용하면 라는 미지의 입력 내용에 대해서도 컴퓨터는 이렇게 하면 ...   \n",
       "54886        세법  이에 따르면 시스템에 대한 사용자의 일반적 만족도는 동 시스템 구축 이전 자치단체별...   \n",
       "76820        판례  근본적으로는 국내 해사 중재 활성화를 위한 기본 토대가 갖춰져 있지 않다는 점을 들...   \n",
       "860          민법  또한 는 증권거래세를 부과함에 따라 과세정보의 외부효과로 인하여 자원의 낭비를 감소...   \n",
       "15795        민법   기회이용의 허용을 통해 회사에 도움이 되는 거래가 증가한다면 기업가치가 상승할 것이다    \n",
       "\n",
       "                                                 content  label  \\\n",
       "75220  인수합병을 추진하는 입장에서 피고인에게 회사일을 거론할 수는 없었다는 정의 법정 진...      3   \n",
       "48955           이는 차명거래를 한 데 대한 제재의 성격을 갖고 있다고 볼 수밖에 없다.      2   \n",
       "44966   행정 담당 공무원들은 1∼2년 담당하다가 자리를 옮기니 전문성을 갖출 시간이 부족하다.      2   \n",
       "13568                       우리 민법은 이러한 일본민법의 태도를 따른 것이다.      0   \n",
       "92727   채굴을 통해서 생성된 블록이 블록체인에 결합되기 위해서는 일정한 요건을 충족해야 한다.      4   \n",
       "...                                                  ...    ...   \n",
       "6265   머신 러닝 기술을 활용하면 Z라는 미지의 입력 내용에 대해서도 컴퓨터는 이렇게 하면...      0   \n",
       "54886  이에 따르면, 시스템에 대한 사용자의 일반적 만족도는 동 시스템 구축 이전 자치단체...      2   \n",
       "76820  근본적으로는, 국내 해사 중재 활성화를 위한 기본 토대가 갖춰져 있지 않다는 점을 ...      3   \n",
       "860    또한, AAA는 증권거래세를 부과함에 따라 과세정보의 외부효과로 인하여 자원의 낭비...      0   \n",
       "15795   기회이용의 허용을 통해 회사에 도움이 되는 거래가 증가한다면 기업가치가 상승할 것이다.      0   \n",
       "\n",
       "                                                   token  \n",
       "75220  [input_ids, token_type_ids, attention_mask, la...  \n",
       "48955  [input_ids, token_type_ids, attention_mask, la...  \n",
       "44966  [input_ids, token_type_ids, attention_mask, la...  \n",
       "13568  [input_ids, token_type_ids, attention_mask, la...  \n",
       "92727  [input_ids, token_type_ids, attention_mask, la...  \n",
       "...                                                  ...  \n",
       "6265   [input_ids, token_type_ids, attention_mask, la...  \n",
       "54886  [input_ids, token_type_ids, attention_mask, la...  \n",
       "76820  [input_ids, token_type_ids, attention_mask, la...  \n",
       "860    [input_ids, token_type_ids, attention_mask, la...  \n",
       "15795  [input_ids, token_type_ids, attention_mask, la...  \n",
       "\n",
       "[80000 rows x 5 columns]"
      ]
     },
     "execution_count": 15,
     "metadata": {},
     "output_type": "execute_result"
    }
   ],
   "source": [
    "law_train['token'] = law_train['pre_content'].apply(tokenize_function)\n",
    "law_train"
   ]
  },
  {
   "cell_type": "code",
   "execution_count": 16,
   "id": "3f9ed467",
   "metadata": {},
   "outputs": [
    {
     "data": {
      "text/html": [
       "<div>\n",
       "<style scoped>\n",
       "    .dataframe tbody tr th:only-of-type {\n",
       "        vertical-align: middle;\n",
       "    }\n",
       "\n",
       "    .dataframe tbody tr th {\n",
       "        vertical-align: top;\n",
       "    }\n",
       "\n",
       "    .dataframe thead th {\n",
       "        text-align: right;\n",
       "    }\n",
       "</style>\n",
       "<table border=\"1\" class=\"dataframe\">\n",
       "  <thead>\n",
       "    <tr style=\"text-align: right;\">\n",
       "      <th></th>\n",
       "      <th>subdomain</th>\n",
       "      <th>pre_content</th>\n",
       "      <th>content</th>\n",
       "      <th>label</th>\n",
       "      <th>token</th>\n",
       "    </tr>\n",
       "  </thead>\n",
       "  <tbody>\n",
       "    <tr>\n",
       "      <th>75721</th>\n",
       "      <td>판례</td>\n",
       "      <td>마지막으로 년에는 그동안 부진했던 증권 관련 집단소송 중 여러 건이 진행되었다</td>\n",
       "      <td>마지막으로 2018년에는 그동안 부진했던 증권 관련 집단소송 중 여러 건이 진행되었다.</td>\n",
       "      <td>3</td>\n",
       "      <td>[input_ids, token_type_ids, attention_mask, la...</td>\n",
       "    </tr>\n",
       "    <tr>\n",
       "      <th>80184</th>\n",
       "      <td>형법</td>\n",
       "      <td>사법 해석은 법률의 규정이나 입법 취지를 벗어나 해석할 수 없고 범죄 자산 몰수 특...</td>\n",
       "      <td>사법 해석은 법률의 규정이나 입법 취지를 벗어나 해석할 수 없고, 범죄 자산 몰수 ...</td>\n",
       "      <td>4</td>\n",
       "      <td>[input_ids, token_type_ids, attention_mask, la...</td>\n",
       "    </tr>\n",
       "    <tr>\n",
       "      <th>19864</th>\n",
       "      <td>민법</td>\n",
       "      <td>이 사건 소가 전소에서 확정된 법률관계와 정반대의 모순되는 사항을 소송물로 하는 것...</td>\n",
       "      <td>이 사건 소가 전소에서 확정된 법률관계와 정반대의 모순되는 사항을 소송물로 하는 것...</td>\n",
       "      <td>0</td>\n",
       "      <td>[input_ids, token_type_ids, attention_mask, la...</td>\n",
       "    </tr>\n",
       "    <tr>\n",
       "      <th>76699</th>\n",
       "      <td>판례</td>\n",
       "      <td>법적 관점에서도 태아가 불법행위로 인한 손해배상청구권을 가진다</td>\n",
       "      <td>법적 관점에서도 태아가 불법행위로 인한 손해배상청구권을 가진다.</td>\n",
       "      <td>3</td>\n",
       "      <td>[input_ids, token_type_ids, attention_mask, la...</td>\n",
       "    </tr>\n",
       "    <tr>\n",
       "      <th>92991</th>\n",
       "      <td>형법</td>\n",
       "      <td>즉 생명권은 사람의 생존본능과 존재목적 고유한 존재가치에 바탕을 두고 있으므로 이는...</td>\n",
       "      <td>즉, 생명권은 사람의 생존본능과 존재목적 고유한 존재가치에 바탕을 두고 있으므로 이...</td>\n",
       "      <td>4</td>\n",
       "      <td>[input_ids, token_type_ids, attention_mask, la...</td>\n",
       "    </tr>\n",
       "    <tr>\n",
       "      <th>...</th>\n",
       "      <td>...</td>\n",
       "      <td>...</td>\n",
       "      <td>...</td>\n",
       "      <td>...</td>\n",
       "      <td>...</td>\n",
       "    </tr>\n",
       "    <tr>\n",
       "      <th>32595</th>\n",
       "      <td>법률연구</td>\n",
       "      <td>대량 실업 사태와 임금 저하 현상이 속출하였고 년 노동법 체계에 대한 재검토가 불가...</td>\n",
       "      <td>대량 실업 사태와 임금 저하 현상이 속출하였고, 1997년 노동법 체계에 대한 재검...</td>\n",
       "      <td>1</td>\n",
       "      <td>[input_ids, token_type_ids, attention_mask, la...</td>\n",
       "    </tr>\n",
       "    <tr>\n",
       "      <th>29313</th>\n",
       "      <td>법률연구</td>\n",
       "      <td>사건에서 영국 는 새로운 기술에 기초한 디자인의 경우 그러한 새로운 기술이 디자이...</td>\n",
       "      <td>Dyson Ltd v Vax Ltd 사건에서, 영국 High Court는 새로운 기...</td>\n",
       "      <td>1</td>\n",
       "      <td>[input_ids, token_type_ids, attention_mask, la...</td>\n",
       "    </tr>\n",
       "    <tr>\n",
       "      <th>37862</th>\n",
       "      <td>법률연구</td>\n",
       "      <td>자유법론의 주장은 제정법과 법의 무흠결성이란 도그마 형식논리 법학에서의 의지 작용의...</td>\n",
       "      <td>자유법론의 주장은 제정법과 법의 무흠결성이란 도그마, 형식논리, 법학에서의 의지 작...</td>\n",
       "      <td>1</td>\n",
       "      <td>[input_ids, token_type_ids, attention_mask, la...</td>\n",
       "    </tr>\n",
       "    <tr>\n",
       "      <th>53421</th>\n",
       "      <td>세법</td>\n",
       "      <td>는 구성요소를 분리하는 것이 어렵기 때문에 이익조정 및 회계기준과 세법의 기계적인...</td>\n",
       "      <td>BTD는 구성요소를 분리하는 것이 어렵기 때문에 이익조정 및 회계기준과 세법의 기계...</td>\n",
       "      <td>2</td>\n",
       "      <td>[input_ids, token_type_ids, attention_mask, la...</td>\n",
       "    </tr>\n",
       "    <tr>\n",
       "      <th>42410</th>\n",
       "      <td>세법</td>\n",
       "      <td>지방세기본법에서는 제 장에서 납세자의 권리에 대하여 규정하면서 제 조 납세자권리 헌...</td>\n",
       "      <td>지방세기본법에서는 제 7장에서 납세자의 권리에 대하여 규정하면서 제105조 납세자권...</td>\n",
       "      <td>2</td>\n",
       "      <td>[input_ids, token_type_ids, attention_mask, la...</td>\n",
       "    </tr>\n",
       "  </tbody>\n",
       "</table>\n",
       "<p>20000 rows × 5 columns</p>\n",
       "</div>"
      ],
      "text/plain": [
       "      subdomain                                        pre_content  \\\n",
       "75721        판례       마지막으로 년에는 그동안 부진했던 증권 관련 집단소송 중 여러 건이 진행되었다    \n",
       "80184        형법  사법 해석은 법률의 규정이나 입법 취지를 벗어나 해석할 수 없고 범죄 자산 몰수 특...   \n",
       "19864        민법  이 사건 소가 전소에서 확정된 법률관계와 정반대의 모순되는 사항을 소송물로 하는 것...   \n",
       "76699        판례                법적 관점에서도 태아가 불법행위로 인한 손해배상청구권을 가진다    \n",
       "92991        형법  즉 생명권은 사람의 생존본능과 존재목적 고유한 존재가치에 바탕을 두고 있으므로 이는...   \n",
       "...         ...                                                ...   \n",
       "32595      법률연구  대량 실업 사태와 임금 저하 현상이 속출하였고 년 노동법 체계에 대한 재검토가 불가...   \n",
       "29313      법률연구   사건에서 영국 는 새로운 기술에 기초한 디자인의 경우 그러한 새로운 기술이 디자이...   \n",
       "37862      법률연구  자유법론의 주장은 제정법과 법의 무흠결성이란 도그마 형식논리 법학에서의 의지 작용의...   \n",
       "53421        세법   는 구성요소를 분리하는 것이 어렵기 때문에 이익조정 및 회계기준과 세법의 기계적인...   \n",
       "42410        세법  지방세기본법에서는 제 장에서 납세자의 권리에 대하여 규정하면서 제 조 납세자권리 헌...   \n",
       "\n",
       "                                                 content  label  \\\n",
       "75721   마지막으로 2018년에는 그동안 부진했던 증권 관련 집단소송 중 여러 건이 진행되었다.      3   \n",
       "80184  사법 해석은 법률의 규정이나 입법 취지를 벗어나 해석할 수 없고, 범죄 자산 몰수 ...      4   \n",
       "19864  이 사건 소가 전소에서 확정된 법률관계와 정반대의 모순되는 사항을 소송물로 하는 것...      0   \n",
       "76699                법적 관점에서도 태아가 불법행위로 인한 손해배상청구권을 가진다.      3   \n",
       "92991  즉, 생명권은 사람의 생존본능과 존재목적 고유한 존재가치에 바탕을 두고 있으므로 이...      4   \n",
       "...                                                  ...    ...   \n",
       "32595  대량 실업 사태와 임금 저하 현상이 속출하였고, 1997년 노동법 체계에 대한 재검...      1   \n",
       "29313  Dyson Ltd v Vax Ltd 사건에서, 영국 High Court는 새로운 기...      1   \n",
       "37862  자유법론의 주장은 제정법과 법의 무흠결성이란 도그마, 형식논리, 법학에서의 의지 작...      1   \n",
       "53421  BTD는 구성요소를 분리하는 것이 어렵기 때문에 이익조정 및 회계기준과 세법의 기계...      2   \n",
       "42410  지방세기본법에서는 제 7장에서 납세자의 권리에 대하여 규정하면서 제105조 납세자권...      2   \n",
       "\n",
       "                                                   token  \n",
       "75721  [input_ids, token_type_ids, attention_mask, la...  \n",
       "80184  [input_ids, token_type_ids, attention_mask, la...  \n",
       "19864  [input_ids, token_type_ids, attention_mask, la...  \n",
       "76699  [input_ids, token_type_ids, attention_mask, la...  \n",
       "92991  [input_ids, token_type_ids, attention_mask, la...  \n",
       "...                                                  ...  \n",
       "32595  [input_ids, token_type_ids, attention_mask, la...  \n",
       "29313  [input_ids, token_type_ids, attention_mask, la...  \n",
       "37862  [input_ids, token_type_ids, attention_mask, la...  \n",
       "53421  [input_ids, token_type_ids, attention_mask, la...  \n",
       "42410  [input_ids, token_type_ids, attention_mask, la...  \n",
       "\n",
       "[20000 rows x 5 columns]"
      ]
     },
     "execution_count": 16,
     "metadata": {},
     "output_type": "execute_result"
    }
   ],
   "source": [
    "law_val['token'] = law_val['pre_content'].apply(tokenize_function)\n",
    "law_val"
   ]
  },
  {
   "cell_type": "code",
   "execution_count": 17,
   "id": "fb993a7c",
   "metadata": {
    "scrolled": true
   },
   "outputs": [
    {
     "data": {
      "text/plain": [
       "{'input_ids': [2, 20446, 4397, 21557, 12166, 7966, 14295, 26188, 16328, 8963, 9858, 17654, 4082, 15358, 12629, 4008, 8209, 19711, 14340, 4017, 12665, 3, 0, 0, 0, 0, 0, 0, 0, 0, 0, 0, 0, 0, 0, 0, 0, 0, 0, 0, 0, 0, 0, 0, 0, 0, 0, 0, 0, 0, 0, 0, 0, 0, 0, 0, 0, 0, 0, 0, 0, 0, 0, 0, 0, 0, 0, 0, 0, 0, 0, 0, 0, 0, 0, 0, 0, 0, 0, 0, 0, 0, 0, 0, 0, 0, 0, 0, 0, 0, 0, 0, 0, 0, 0, 0, 0, 0, 0, 0, 0, 0, 0, 0, 0, 0, 0, 0, 0, 0, 0, 0, 0, 0, 0, 0, 0, 0, 0, 0, 0, 0, 0, 0, 0, 0, 0, 0, 0, 0, 0, 0, 0, 0, 0, 0, 0, 0, 0, 0, 0, 0, 0, 0, 0, 0, 0, 0, 0, 0, 0, 0, 0, 0, 0, 0, 0, 0, 0, 0, 0, 0, 0, 0, 0, 0, 0, 0, 0, 0, 0, 0, 0, 0, 0, 0, 0, 0, 0, 0, 0, 0, 0, 0, 0, 0, 0, 0, 0, 0, 0, 0, 0, 0, 0, 0, 0, 0, 0, 0, 0, 0, 0, 0, 0, 0, 0, 0, 0, 0, 0, 0, 0, 0, 0, 0, 0, 0, 0, 0, 0, 0, 0, 0, 0, 0, 0, 0, 0, 0, 0, 0, 0, 0, 0, 0, 0, 0, 0, 0, 0, 0, 0, 0, 0, 0, 0, 0, 0, 0, 0, 0, 0, 0, 0, 0, 0, 0, 0, 0, 0, 0, 0, 0, 0, 0, 0, 0, 0, 0, 0, 0, 0, 0, 0, 0, 0, 0, 0, 0, 0, 0, 0, 0, 0, 0, 0, 0, 0, 0, 0, 0, 0, 0, 0, 0, 0, 0, 0, 0], 'token_type_ids': [0, 0, 0, 0, 0, 0, 0, 0, 0, 0, 0, 0, 0, 0, 0, 0, 0, 0, 0, 0, 0, 0, 0, 0, 0, 0, 0, 0, 0, 0, 0, 0, 0, 0, 0, 0, 0, 0, 0, 0, 0, 0, 0, 0, 0, 0, 0, 0, 0, 0, 0, 0, 0, 0, 0, 0, 0, 0, 0, 0, 0, 0, 0, 0, 0, 0, 0, 0, 0, 0, 0, 0, 0, 0, 0, 0, 0, 0, 0, 0, 0, 0, 0, 0, 0, 0, 0, 0, 0, 0, 0, 0, 0, 0, 0, 0, 0, 0, 0, 0, 0, 0, 0, 0, 0, 0, 0, 0, 0, 0, 0, 0, 0, 0, 0, 0, 0, 0, 0, 0, 0, 0, 0, 0, 0, 0, 0, 0, 0, 0, 0, 0, 0, 0, 0, 0, 0, 0, 0, 0, 0, 0, 0, 0, 0, 0, 0, 0, 0, 0, 0, 0, 0, 0, 0, 0, 0, 0, 0, 0, 0, 0, 0, 0, 0, 0, 0, 0, 0, 0, 0, 0, 0, 0, 0, 0, 0, 0, 0, 0, 0, 0, 0, 0, 0, 0, 0, 0, 0, 0, 0, 0, 0, 0, 0, 0, 0, 0, 0, 0, 0, 0, 0, 0, 0, 0, 0, 0, 0, 0, 0, 0, 0, 0, 0, 0, 0, 0, 0, 0, 0, 0, 0, 0, 0, 0, 0, 0, 0, 0, 0, 0, 0, 0, 0, 0, 0, 0, 0, 0, 0, 0, 0, 0, 0, 0, 0, 0, 0, 0, 0, 0, 0, 0, 0, 0, 0, 0, 0, 0, 0, 0, 0, 0, 0, 0, 0, 0, 0, 0, 0, 0, 0, 0, 0, 0, 0, 0, 0, 0, 0, 0, 0, 0, 0, 0, 0, 0, 0, 0, 0, 0, 0, 0, 0, 0, 0, 0, 0, 0], 'attention_mask': [1, 1, 1, 1, 1, 1, 1, 1, 1, 1, 1, 1, 1, 1, 1, 1, 1, 1, 1, 1, 1, 1, 0, 0, 0, 0, 0, 0, 0, 0, 0, 0, 0, 0, 0, 0, 0, 0, 0, 0, 0, 0, 0, 0, 0, 0, 0, 0, 0, 0, 0, 0, 0, 0, 0, 0, 0, 0, 0, 0, 0, 0, 0, 0, 0, 0, 0, 0, 0, 0, 0, 0, 0, 0, 0, 0, 0, 0, 0, 0, 0, 0, 0, 0, 0, 0, 0, 0, 0, 0, 0, 0, 0, 0, 0, 0, 0, 0, 0, 0, 0, 0, 0, 0, 0, 0, 0, 0, 0, 0, 0, 0, 0, 0, 0, 0, 0, 0, 0, 0, 0, 0, 0, 0, 0, 0, 0, 0, 0, 0, 0, 0, 0, 0, 0, 0, 0, 0, 0, 0, 0, 0, 0, 0, 0, 0, 0, 0, 0, 0, 0, 0, 0, 0, 0, 0, 0, 0, 0, 0, 0, 0, 0, 0, 0, 0, 0, 0, 0, 0, 0, 0, 0, 0, 0, 0, 0, 0, 0, 0, 0, 0, 0, 0, 0, 0, 0, 0, 0, 0, 0, 0, 0, 0, 0, 0, 0, 0, 0, 0, 0, 0, 0, 0, 0, 0, 0, 0, 0, 0, 0, 0, 0, 0, 0, 0, 0, 0, 0, 0, 0, 0, 0, 0, 0, 0, 0, 0, 0, 0, 0, 0, 0, 0, 0, 0, 0, 0, 0, 0, 0, 0, 0, 0, 0, 0, 0, 0, 0, 0, 0, 0, 0, 0, 0, 0, 0, 0, 0, 0, 0, 0, 0, 0, 0, 0, 0, 0, 0, 0, 0, 0, 0, 0, 0, 0, 0, 0, 0, 0, 0, 0, 0, 0, 0, 0, 0, 0, 0, 0, 0, 0, 0, 0, 0, 0, 0, 0, 0, 0], 'labels': [2, 20446, 4397, 21557, 12166, 7966, 14295, 26188, 16328, 8963, 9858, 17654, 4082, 15358, 12629, 4008, 8209, 19711, 14340, 4017, 12665, 3, 0, 0, 0, 0, 0, 0, 0, 0, 0, 0, 0, 0, 0, 0, 0, 0, 0, 0, 0, 0, 0, 0, 0, 0, 0, 0, 0, 0, 0, 0, 0, 0, 0, 0, 0, 0, 0, 0, 0, 0, 0, 0, 0, 0, 0, 0, 0, 0, 0, 0, 0, 0, 0, 0, 0, 0, 0, 0, 0, 0, 0, 0, 0, 0, 0, 0, 0, 0, 0, 0, 0, 0, 0, 0, 0, 0, 0, 0, 0, 0, 0, 0, 0, 0, 0, 0, 0, 0, 0, 0, 0, 0, 0, 0, 0, 0, 0, 0, 0, 0, 0, 0, 0, 0, 0, 0, 0, 0, 0, 0, 0, 0, 0, 0, 0, 0, 0, 0, 0, 0, 0, 0, 0, 0, 0, 0, 0, 0, 0, 0, 0, 0, 0, 0, 0, 0, 0, 0, 0, 0, 0, 0, 0, 0, 0, 0, 0, 0, 0, 0, 0, 0, 0, 0, 0, 0, 0, 0, 0, 0, 0, 0, 0, 0, 0, 0, 0, 0, 0, 0, 0, 0, 0, 0, 0, 0, 0, 0, 0, 0, 0, 0, 0, 0, 0, 0, 0, 0, 0, 0, 0, 0, 0, 0, 0, 0, 0, 0, 0, 0, 0, 0, 0, 0, 0, 0, 0, 0, 0, 0, 0, 0, 0, 0, 0, 0, 0, 0, 0, 0, 0, 0, 0, 0, 0, 0, 0, 0, 0, 0, 0, 0, 0, 0, 0, 0, 0, 0, 0, 0, 0, 0, 0, 0, 0, 0, 0, 0, 0, 0, 0, 0, 0, 0, 0, 0, 0, 0, 0, 0, 0, 0, 0, 0, 0, 0, 0, 0, 0, 0, 0, 0, 0, 0, 0, 0, 0, 0]}"
      ]
     },
     "execution_count": 17,
     "metadata": {},
     "output_type": "execute_result"
    }
   ],
   "source": [
    "law_train['token'].iloc[0]"
   ]
  },
  {
   "cell_type": "code",
   "execution_count": 19,
   "id": "fcb243cf",
   "metadata": {},
   "outputs": [],
   "source": [
    "data_collator = DataCollatorForLanguageModeling(tokenizer=tokenizer, mlm_probability=0.15)"
   ]
  },
  {
   "cell_type": "code",
   "execution_count": 20,
   "id": "eb0c337b",
   "metadata": {},
   "outputs": [],
   "source": [
    "mlm_train = law_train['token'].copy()\n",
    "mlm_train.reset_index(drop=True, inplace=True)\n",
    "\n",
    "mlm_val = law_val['token'].copy()\n",
    "mlm_val.reset_index(drop=True, inplace=True)"
   ]
  },
  {
   "cell_type": "code",
   "execution_count": 21,
   "id": "1a73f414",
   "metadata": {},
   "outputs": [
    {
     "data": {
      "text/plain": [
       "{'input_ids': [2, 21380, 8966, 8229, 10041, 13867, 12810, 4105, 9186, 8158, 16817, 4102, 7975, 7968, 10794, 13804, 4042, 18561, 9878, 7966, 12710, 9118, 4075, 13256, 4072, 4042, 11794, 26409, 18861, 8094, 26503, 8294, 8060, 4047, 2219, 8835, 903, 8556, 3, 0, 0, 0, 0, 0, 0, 0, 0, 0, 0, 0, 0, 0, 0, 0, 0, 0, 0, 0, 0, 0, 0, 0, 0, 0, 0, 0, 0, 0, 0, 0, 0, 0, 0, 0, 0, 0, 0, 0, 0, 0, 0, 0, 0, 0, 0, 0, 0, 0, 0, 0, 0, 0, 0, 0, 0, 0, 0, 0, 0, 0, 0, 0, 0, 0, 0, 0, 0, 0, 0, 0, 0, 0, 0, 0, 0, 0, 0, 0, 0, 0, 0, 0, 0, 0, 0, 0, 0, 0, 0, 0, 0, 0, 0, 0, 0, 0, 0, 0, 0, 0, 0, 0, 0, 0, 0, 0, 0, 0, 0, 0, 0, 0, 0, 0, 0, 0, 0, 0, 0, 0, 0, 0, 0, 0, 0, 0, 0, 0, 0, 0, 0, 0, 0, 0, 0, 0, 0, 0, 0, 0, 0, 0, 0, 0, 0, 0, 0, 0, 0, 0, 0, 0, 0, 0, 0, 0, 0, 0, 0, 0, 0, 0, 0, 0, 0, 0, 0, 0, 0, 0, 0, 0, 0, 0, 0, 0, 0, 0, 0, 0, 0, 0, 0, 0, 0, 0, 0, 0, 0, 0, 0, 0, 0, 0, 0, 0, 0, 0, 0, 0, 0, 0, 0, 0, 0, 0, 0, 0, 0, 0, 0, 0, 0, 0, 0, 0, 0, 0, 0, 0, 0, 0, 0, 0, 0, 0, 0, 0, 0, 0, 0, 0, 0, 0, 0, 0, 0, 0, 0, 0, 0, 0, 0, 0, 0, 0, 0, 0, 0, 0, 0, 0, 0, 0, 0, 0, 0, 0, 0, 0], 'token_type_ids': [0, 0, 0, 0, 0, 0, 0, 0, 0, 0, 0, 0, 0, 0, 0, 0, 0, 0, 0, 0, 0, 0, 0, 0, 0, 0, 0, 0, 0, 0, 0, 0, 0, 0, 0, 0, 0, 0, 0, 0, 0, 0, 0, 0, 0, 0, 0, 0, 0, 0, 0, 0, 0, 0, 0, 0, 0, 0, 0, 0, 0, 0, 0, 0, 0, 0, 0, 0, 0, 0, 0, 0, 0, 0, 0, 0, 0, 0, 0, 0, 0, 0, 0, 0, 0, 0, 0, 0, 0, 0, 0, 0, 0, 0, 0, 0, 0, 0, 0, 0, 0, 0, 0, 0, 0, 0, 0, 0, 0, 0, 0, 0, 0, 0, 0, 0, 0, 0, 0, 0, 0, 0, 0, 0, 0, 0, 0, 0, 0, 0, 0, 0, 0, 0, 0, 0, 0, 0, 0, 0, 0, 0, 0, 0, 0, 0, 0, 0, 0, 0, 0, 0, 0, 0, 0, 0, 0, 0, 0, 0, 0, 0, 0, 0, 0, 0, 0, 0, 0, 0, 0, 0, 0, 0, 0, 0, 0, 0, 0, 0, 0, 0, 0, 0, 0, 0, 0, 0, 0, 0, 0, 0, 0, 0, 0, 0, 0, 0, 0, 0, 0, 0, 0, 0, 0, 0, 0, 0, 0, 0, 0, 0, 0, 0, 0, 0, 0, 0, 0, 0, 0, 0, 0, 0, 0, 0, 0, 0, 0, 0, 0, 0, 0, 0, 0, 0, 0, 0, 0, 0, 0, 0, 0, 0, 0, 0, 0, 0, 0, 0, 0, 0, 0, 0, 0, 0, 0, 0, 0, 0, 0, 0, 0, 0, 0, 0, 0, 0, 0, 0, 0, 0, 0, 0, 0, 0, 0, 0, 0, 0, 0, 0, 0, 0, 0, 0, 0, 0, 0, 0, 0, 0, 0, 0, 0, 0, 0, 0, 0, 0], 'attention_mask': [1, 1, 1, 1, 1, 1, 1, 1, 1, 1, 1, 1, 1, 1, 1, 1, 1, 1, 1, 1, 1, 1, 1, 1, 1, 1, 1, 1, 1, 1, 1, 1, 1, 1, 1, 1, 1, 1, 1, 0, 0, 0, 0, 0, 0, 0, 0, 0, 0, 0, 0, 0, 0, 0, 0, 0, 0, 0, 0, 0, 0, 0, 0, 0, 0, 0, 0, 0, 0, 0, 0, 0, 0, 0, 0, 0, 0, 0, 0, 0, 0, 0, 0, 0, 0, 0, 0, 0, 0, 0, 0, 0, 0, 0, 0, 0, 0, 0, 0, 0, 0, 0, 0, 0, 0, 0, 0, 0, 0, 0, 0, 0, 0, 0, 0, 0, 0, 0, 0, 0, 0, 0, 0, 0, 0, 0, 0, 0, 0, 0, 0, 0, 0, 0, 0, 0, 0, 0, 0, 0, 0, 0, 0, 0, 0, 0, 0, 0, 0, 0, 0, 0, 0, 0, 0, 0, 0, 0, 0, 0, 0, 0, 0, 0, 0, 0, 0, 0, 0, 0, 0, 0, 0, 0, 0, 0, 0, 0, 0, 0, 0, 0, 0, 0, 0, 0, 0, 0, 0, 0, 0, 0, 0, 0, 0, 0, 0, 0, 0, 0, 0, 0, 0, 0, 0, 0, 0, 0, 0, 0, 0, 0, 0, 0, 0, 0, 0, 0, 0, 0, 0, 0, 0, 0, 0, 0, 0, 0, 0, 0, 0, 0, 0, 0, 0, 0, 0, 0, 0, 0, 0, 0, 0, 0, 0, 0, 0, 0, 0, 0, 0, 0, 0, 0, 0, 0, 0, 0, 0, 0, 0, 0, 0, 0, 0, 0, 0, 0, 0, 0, 0, 0, 0, 0, 0, 0, 0, 0, 0, 0, 0, 0, 0, 0, 0, 0, 0, 0, 0, 0, 0, 0, 0, 0, 0, 0, 0, 0, 0, 0], 'labels': [2, 21380, 8966, 8229, 10041, 13867, 12810, 4105, 9186, 8158, 16817, 4102, 7975, 7968, 10794, 13804, 4042, 18561, 9878, 7966, 12710, 9118, 4075, 13256, 4072, 4042, 11794, 26409, 18861, 8094, 26503, 8294, 8060, 4047, 2219, 8835, 903, 8556, 3, 0, 0, 0, 0, 0, 0, 0, 0, 0, 0, 0, 0, 0, 0, 0, 0, 0, 0, 0, 0, 0, 0, 0, 0, 0, 0, 0, 0, 0, 0, 0, 0, 0, 0, 0, 0, 0, 0, 0, 0, 0, 0, 0, 0, 0, 0, 0, 0, 0, 0, 0, 0, 0, 0, 0, 0, 0, 0, 0, 0, 0, 0, 0, 0, 0, 0, 0, 0, 0, 0, 0, 0, 0, 0, 0, 0, 0, 0, 0, 0, 0, 0, 0, 0, 0, 0, 0, 0, 0, 0, 0, 0, 0, 0, 0, 0, 0, 0, 0, 0, 0, 0, 0, 0, 0, 0, 0, 0, 0, 0, 0, 0, 0, 0, 0, 0, 0, 0, 0, 0, 0, 0, 0, 0, 0, 0, 0, 0, 0, 0, 0, 0, 0, 0, 0, 0, 0, 0, 0, 0, 0, 0, 0, 0, 0, 0, 0, 0, 0, 0, 0, 0, 0, 0, 0, 0, 0, 0, 0, 0, 0, 0, 0, 0, 0, 0, 0, 0, 0, 0, 0, 0, 0, 0, 0, 0, 0, 0, 0, 0, 0, 0, 0, 0, 0, 0, 0, 0, 0, 0, 0, 0, 0, 0, 0, 0, 0, 0, 0, 0, 0, 0, 0, 0, 0, 0, 0, 0, 0, 0, 0, 0, 0, 0, 0, 0, 0, 0, 0, 0, 0, 0, 0, 0, 0, 0, 0, 0, 0, 0, 0, 0, 0, 0, 0, 0, 0, 0, 0, 0, 0, 0, 0, 0, 0, 0, 0, 0, 0, 0, 0, 0, 0, 0, 0, 0, 0, 0, 0, 0, 0]}"
      ]
     },
     "execution_count": 21,
     "metadata": {},
     "output_type": "execute_result"
    }
   ],
   "source": [
    "mlm_train[100]"
   ]
  },
  {
   "cell_type": "markdown",
   "id": "abc887a9",
   "metadata": {},
   "source": [
    "### (2) train"
   ]
  },
  {
   "cell_type": "code",
   "execution_count": 22,
   "id": "b636d89a",
   "metadata": {},
   "outputs": [],
   "source": [
    "training_args = TrainingArguments(output_dir='./fp_result/law_further_pretrained',\n",
    "                                  evaluation_strategy=\"epoch\",\n",
    "                                  save_strategy=\"epoch\",\n",
    "                                  overwrite_output_dir=True,\n",
    "                                  num_train_epochs=epochs,\n",
    "                                  per_device_train_batch_size=batch_size,\n",
    "                                  per_device_eval_batch_size=batch_size,\n",
    "                                  load_best_model_at_end=True,\n",
    "                                  seed=seed)\n",
    "\n",
    "trainer = Trainer(model=mlm_model,\n",
    "                  args=training_args,\n",
    "                  data_collator=data_collator,\n",
    "                  train_dataset=mlm_train,\n",
    "                  eval_dataset=mlm_val)"
   ]
  },
  {
   "cell_type": "code",
   "execution_count": 23,
   "id": "f0843fc5",
   "metadata": {},
   "outputs": [],
   "source": [
    "torch.cuda.empty_cache()"
   ]
  },
  {
   "cell_type": "code",
   "execution_count": 24,
   "id": "4bd57a54",
   "metadata": {
    "scrolled": true
   },
   "outputs": [
    {
     "name": "stderr",
     "output_type": "stream",
     "text": [
      "C:\\Users\\delab_7\\AppData\\Roaming\\Python\\Python38\\site-packages\\transformers\\optimization.py:306: FutureWarning: This implementation of AdamW is deprecated and will be removed in a future version. Use the PyTorch implementation torch.optim.AdamW instead, or set `no_deprecation_warning=True` to disable this warning\n",
      "  warnings.warn(\n",
      "***** Running training *****\n",
      "  Num examples = 80000\n",
      "  Num Epochs = 20\n",
      "  Instantaneous batch size per device = 32\n",
      "  Total train batch size (w. parallel, distributed & accumulation) = 32\n",
      "  Gradient Accumulation steps = 1\n",
      "  Total optimization steps = 50000\n"
     ]
    },
    {
     "data": {
      "text/html": [
       "\n",
       "    <div>\n",
       "      \n",
       "      <progress value='50000' max='50000' style='width:300px; height:20px; vertical-align: middle;'></progress>\n",
       "      [50000/50000 10:21:49, Epoch 20/20]\n",
       "    </div>\n",
       "    <table border=\"1\" class=\"dataframe\">\n",
       "  <thead>\n",
       " <tr style=\"text-align: left;\">\n",
       "      <th>Epoch</th>\n",
       "      <th>Training Loss</th>\n",
       "      <th>Validation Loss</th>\n",
       "    </tr>\n",
       "  </thead>\n",
       "  <tbody>\n",
       "    <tr>\n",
       "      <td>1</td>\n",
       "      <td>2.778600</td>\n",
       "      <td>2.634197</td>\n",
       "    </tr>\n",
       "    <tr>\n",
       "      <td>2</td>\n",
       "      <td>2.588800</td>\n",
       "      <td>2.481555</td>\n",
       "    </tr>\n",
       "    <tr>\n",
       "      <td>3</td>\n",
       "      <td>2.445000</td>\n",
       "      <td>2.416952</td>\n",
       "    </tr>\n",
       "    <tr>\n",
       "      <td>4</td>\n",
       "      <td>2.368400</td>\n",
       "      <td>2.340377</td>\n",
       "    </tr>\n",
       "    <tr>\n",
       "      <td>5</td>\n",
       "      <td>2.261800</td>\n",
       "      <td>2.290115</td>\n",
       "    </tr>\n",
       "    <tr>\n",
       "      <td>6</td>\n",
       "      <td>2.189800</td>\n",
       "      <td>2.244710</td>\n",
       "    </tr>\n",
       "    <tr>\n",
       "      <td>7</td>\n",
       "      <td>2.132900</td>\n",
       "      <td>2.202764</td>\n",
       "    </tr>\n",
       "    <tr>\n",
       "      <td>8</td>\n",
       "      <td>2.055300</td>\n",
       "      <td>2.189559</td>\n",
       "    </tr>\n",
       "    <tr>\n",
       "      <td>9</td>\n",
       "      <td>1.995000</td>\n",
       "      <td>2.167366</td>\n",
       "    </tr>\n",
       "    <tr>\n",
       "      <td>10</td>\n",
       "      <td>1.952000</td>\n",
       "      <td>2.140527</td>\n",
       "    </tr>\n",
       "    <tr>\n",
       "      <td>11</td>\n",
       "      <td>1.933200</td>\n",
       "      <td>2.100879</td>\n",
       "    </tr>\n",
       "    <tr>\n",
       "      <td>12</td>\n",
       "      <td>1.867200</td>\n",
       "      <td>2.082669</td>\n",
       "    </tr>\n",
       "    <tr>\n",
       "      <td>13</td>\n",
       "      <td>1.833900</td>\n",
       "      <td>2.071544</td>\n",
       "    </tr>\n",
       "    <tr>\n",
       "      <td>14</td>\n",
       "      <td>1.787700</td>\n",
       "      <td>2.053842</td>\n",
       "    </tr>\n",
       "    <tr>\n",
       "      <td>15</td>\n",
       "      <td>1.757200</td>\n",
       "      <td>2.036758</td>\n",
       "    </tr>\n",
       "    <tr>\n",
       "      <td>16</td>\n",
       "      <td>1.713600</td>\n",
       "      <td>2.016572</td>\n",
       "    </tr>\n",
       "    <tr>\n",
       "      <td>17</td>\n",
       "      <td>1.682700</td>\n",
       "      <td>1.994883</td>\n",
       "    </tr>\n",
       "    <tr>\n",
       "      <td>18</td>\n",
       "      <td>1.660600</td>\n",
       "      <td>1.993656</td>\n",
       "    </tr>\n",
       "    <tr>\n",
       "      <td>19</td>\n",
       "      <td>1.642800</td>\n",
       "      <td>1.984312</td>\n",
       "    </tr>\n",
       "    <tr>\n",
       "      <td>20</td>\n",
       "      <td>1.631600</td>\n",
       "      <td>1.973458</td>\n",
       "    </tr>\n",
       "  </tbody>\n",
       "</table><p>"
      ],
      "text/plain": [
       "<IPython.core.display.HTML object>"
      ]
     },
     "metadata": {},
     "output_type": "display_data"
    },
    {
     "name": "stderr",
     "output_type": "stream",
     "text": [
      "***** Running Evaluation *****\n",
      "  Num examples = 20000\n",
      "  Batch size = 32\n",
      "Saving model checkpoint to ./fp_result/law_further_pretrained\\checkpoint-2500\n",
      "Configuration saved in ./fp_result/law_further_pretrained\\checkpoint-2500\\config.json\n",
      "Model weights saved in ./fp_result/law_further_pretrained\\checkpoint-2500\\pytorch_model.bin\n",
      "***** Running Evaluation *****\n",
      "  Num examples = 20000\n",
      "  Batch size = 32\n",
      "Saving model checkpoint to ./fp_result/law_further_pretrained\\checkpoint-5000\n",
      "Configuration saved in ./fp_result/law_further_pretrained\\checkpoint-5000\\config.json\n",
      "Model weights saved in ./fp_result/law_further_pretrained\\checkpoint-5000\\pytorch_model.bin\n",
      "***** Running Evaluation *****\n",
      "  Num examples = 20000\n",
      "  Batch size = 32\n",
      "Saving model checkpoint to ./fp_result/law_further_pretrained\\checkpoint-7500\n",
      "Configuration saved in ./fp_result/law_further_pretrained\\checkpoint-7500\\config.json\n",
      "Model weights saved in ./fp_result/law_further_pretrained\\checkpoint-7500\\pytorch_model.bin\n",
      "***** Running Evaluation *****\n",
      "  Num examples = 20000\n",
      "  Batch size = 32\n",
      "Saving model checkpoint to ./fp_result/law_further_pretrained\\checkpoint-10000\n",
      "Configuration saved in ./fp_result/law_further_pretrained\\checkpoint-10000\\config.json\n",
      "Model weights saved in ./fp_result/law_further_pretrained\\checkpoint-10000\\pytorch_model.bin\n",
      "***** Running Evaluation *****\n",
      "  Num examples = 20000\n",
      "  Batch size = 32\n",
      "Saving model checkpoint to ./fp_result/law_further_pretrained\\checkpoint-12500\n",
      "Configuration saved in ./fp_result/law_further_pretrained\\checkpoint-12500\\config.json\n",
      "Model weights saved in ./fp_result/law_further_pretrained\\checkpoint-12500\\pytorch_model.bin\n",
      "***** Running Evaluation *****\n",
      "  Num examples = 20000\n",
      "  Batch size = 32\n",
      "Saving model checkpoint to ./fp_result/law_further_pretrained\\checkpoint-15000\n",
      "Configuration saved in ./fp_result/law_further_pretrained\\checkpoint-15000\\config.json\n",
      "Model weights saved in ./fp_result/law_further_pretrained\\checkpoint-15000\\pytorch_model.bin\n",
      "***** Running Evaluation *****\n",
      "  Num examples = 20000\n",
      "  Batch size = 32\n",
      "Saving model checkpoint to ./fp_result/law_further_pretrained\\checkpoint-17500\n",
      "Configuration saved in ./fp_result/law_further_pretrained\\checkpoint-17500\\config.json\n",
      "Model weights saved in ./fp_result/law_further_pretrained\\checkpoint-17500\\pytorch_model.bin\n",
      "***** Running Evaluation *****\n",
      "  Num examples = 20000\n",
      "  Batch size = 32\n",
      "Saving model checkpoint to ./fp_result/law_further_pretrained\\checkpoint-20000\n",
      "Configuration saved in ./fp_result/law_further_pretrained\\checkpoint-20000\\config.json\n",
      "Model weights saved in ./fp_result/law_further_pretrained\\checkpoint-20000\\pytorch_model.bin\n",
      "***** Running Evaluation *****\n",
      "  Num examples = 20000\n",
      "  Batch size = 32\n",
      "Saving model checkpoint to ./fp_result/law_further_pretrained\\checkpoint-22500\n",
      "Configuration saved in ./fp_result/law_further_pretrained\\checkpoint-22500\\config.json\n",
      "Model weights saved in ./fp_result/law_further_pretrained\\checkpoint-22500\\pytorch_model.bin\n",
      "***** Running Evaluation *****\n",
      "  Num examples = 20000\n",
      "  Batch size = 32\n",
      "Saving model checkpoint to ./fp_result/law_further_pretrained\\checkpoint-25000\n",
      "Configuration saved in ./fp_result/law_further_pretrained\\checkpoint-25000\\config.json\n",
      "Model weights saved in ./fp_result/law_further_pretrained\\checkpoint-25000\\pytorch_model.bin\n",
      "***** Running Evaluation *****\n",
      "  Num examples = 20000\n",
      "  Batch size = 32\n",
      "Saving model checkpoint to ./fp_result/law_further_pretrained\\checkpoint-27500\n",
      "Configuration saved in ./fp_result/law_further_pretrained\\checkpoint-27500\\config.json\n",
      "Model weights saved in ./fp_result/law_further_pretrained\\checkpoint-27500\\pytorch_model.bin\n",
      "***** Running Evaluation *****\n",
      "  Num examples = 20000\n",
      "  Batch size = 32\n",
      "Saving model checkpoint to ./fp_result/law_further_pretrained\\checkpoint-30000\n",
      "Configuration saved in ./fp_result/law_further_pretrained\\checkpoint-30000\\config.json\n",
      "Model weights saved in ./fp_result/law_further_pretrained\\checkpoint-30000\\pytorch_model.bin\n",
      "***** Running Evaluation *****\n",
      "  Num examples = 20000\n",
      "  Batch size = 32\n",
      "Saving model checkpoint to ./fp_result/law_further_pretrained\\checkpoint-32500\n",
      "Configuration saved in ./fp_result/law_further_pretrained\\checkpoint-32500\\config.json\n",
      "Model weights saved in ./fp_result/law_further_pretrained\\checkpoint-32500\\pytorch_model.bin\n",
      "***** Running Evaluation *****\n",
      "  Num examples = 20000\n",
      "  Batch size = 32\n",
      "Saving model checkpoint to ./fp_result/law_further_pretrained\\checkpoint-35000\n",
      "Configuration saved in ./fp_result/law_further_pretrained\\checkpoint-35000\\config.json\n",
      "Model weights saved in ./fp_result/law_further_pretrained\\checkpoint-35000\\pytorch_model.bin\n",
      "***** Running Evaluation *****\n",
      "  Num examples = 20000\n",
      "  Batch size = 32\n",
      "Saving model checkpoint to ./fp_result/law_further_pretrained\\checkpoint-37500\n",
      "Configuration saved in ./fp_result/law_further_pretrained\\checkpoint-37500\\config.json\n",
      "Model weights saved in ./fp_result/law_further_pretrained\\checkpoint-37500\\pytorch_model.bin\n",
      "***** Running Evaluation *****\n",
      "  Num examples = 20000\n",
      "  Batch size = 32\n",
      "Saving model checkpoint to ./fp_result/law_further_pretrained\\checkpoint-40000\n",
      "Configuration saved in ./fp_result/law_further_pretrained\\checkpoint-40000\\config.json\n",
      "Model weights saved in ./fp_result/law_further_pretrained\\checkpoint-40000\\pytorch_model.bin\n",
      "***** Running Evaluation *****\n",
      "  Num examples = 20000\n",
      "  Batch size = 32\n",
      "Saving model checkpoint to ./fp_result/law_further_pretrained\\checkpoint-42500\n",
      "Configuration saved in ./fp_result/law_further_pretrained\\checkpoint-42500\\config.json\n",
      "Model weights saved in ./fp_result/law_further_pretrained\\checkpoint-42500\\pytorch_model.bin\n",
      "***** Running Evaluation *****\n",
      "  Num examples = 20000\n",
      "  Batch size = 32\n",
      "Saving model checkpoint to ./fp_result/law_further_pretrained\\checkpoint-45000\n",
      "Configuration saved in ./fp_result/law_further_pretrained\\checkpoint-45000\\config.json\n",
      "Model weights saved in ./fp_result/law_further_pretrained\\checkpoint-45000\\pytorch_model.bin\n",
      "***** Running Evaluation *****\n",
      "  Num examples = 20000\n",
      "  Batch size = 32\n",
      "Saving model checkpoint to ./fp_result/law_further_pretrained\\checkpoint-47500\n",
      "Configuration saved in ./fp_result/law_further_pretrained\\checkpoint-47500\\config.json\n",
      "Model weights saved in ./fp_result/law_further_pretrained\\checkpoint-47500\\pytorch_model.bin\n",
      "***** Running Evaluation *****\n",
      "  Num examples = 20000\n",
      "  Batch size = 32\n",
      "Saving model checkpoint to ./fp_result/law_further_pretrained\\checkpoint-50000\n",
      "Configuration saved in ./fp_result/law_further_pretrained\\checkpoint-50000\\config.json\n",
      "Model weights saved in ./fp_result/law_further_pretrained\\checkpoint-50000\\pytorch_model.bin\n",
      "\n",
      "\n",
      "Training completed. Do not forget to share your model on huggingface.co/models =)\n",
      "\n",
      "\n",
      "Loading best model from ./fp_result/law_further_pretrained\\checkpoint-50000 (score: 1.973458170890808).\n"
     ]
    },
    {
     "data": {
      "text/plain": [
       "TrainOutput(global_step=50000, training_loss=2.0268064184570314, metrics={'train_runtime': 37311.0822, 'train_samples_per_second': 42.883, 'train_steps_per_second': 1.34, 'total_flos': 2.4675300864e+17, 'train_loss': 2.0268064184570314, 'epoch': 20.0})"
      ]
     },
     "execution_count": 24,
     "metadata": {},
     "output_type": "execute_result"
    }
   ],
   "source": [
    "trainer.train()"
   ]
  },
  {
   "cell_type": "code",
   "execution_count": 25,
   "id": "5ac4e781",
   "metadata": {
    "scrolled": true
   },
   "outputs": [
    {
     "name": "stderr",
     "output_type": "stream",
     "text": [
      "***** Running Evaluation *****\n",
      "  Num examples = 20000\n",
      "  Batch size = 32\n"
     ]
    },
    {
     "data": {
      "text/html": [
       "\n",
       "    <div>\n",
       "      \n",
       "      <progress value='625' max='625' style='width:300px; height:20px; vertical-align: middle;'></progress>\n",
       "      [625/625 02:19]\n",
       "    </div>\n",
       "    "
      ],
      "text/plain": [
       "<IPython.core.display.HTML object>"
      ]
     },
     "metadata": {},
     "output_type": "display_data"
    },
    {
     "data": {
      "text/plain": [
       "{'eval_loss': 1.9752689599990845,\n",
       " 'eval_runtime': 139.914,\n",
       " 'eval_samples_per_second': 142.945,\n",
       " 'eval_steps_per_second': 4.467,\n",
       " 'epoch': 20.0}"
      ]
     },
     "execution_count": 25,
     "metadata": {},
     "output_type": "execute_result"
    }
   ],
   "source": [
    "trainer.evaluate()"
   ]
  },
  {
   "cell_type": "code",
   "execution_count": null,
   "id": "3e96283e",
   "metadata": {},
   "outputs": [],
   "source": []
  },
  {
   "cell_type": "code",
   "execution_count": null,
   "id": "d4932328",
   "metadata": {},
   "outputs": [],
   "source": []
  }
 ],
 "metadata": {
  "kernelspec": {
   "display_name": "Python 3 (ipykernel)",
   "language": "python",
   "name": "python3"
  },
  "language_info": {
   "codemirror_mode": {
    "name": "ipython",
    "version": 3
   },
   "file_extension": ".py",
   "mimetype": "text/x-python",
   "name": "python",
   "nbconvert_exporter": "python",
   "pygments_lexer": "ipython3",
   "version": "3.8.13"
  }
 },
 "nbformat": 4,
 "nbformat_minor": 5
}
